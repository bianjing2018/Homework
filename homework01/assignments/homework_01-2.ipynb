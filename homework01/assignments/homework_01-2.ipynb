{
 "cells": [
  {
   "cell_type": "markdown",
   "metadata": {},
   "source": [
    "# Secend"
   ]
  },
  {
   "cell_type": "code",
   "execution_count": 1,
   "metadata": {},
   "outputs": [],
   "source": [
    "import random\n",
    "import numpy\n",
    "import jieba"
   ]
  },
  {
   "cell_type": "code",
   "execution_count": 2,
   "metadata": {},
   "outputs": [],
   "source": [
    "rule_responses = {\n",
    "    '?*x hello ?*y': ['How do you do', 'Please state your problem'],\n",
    "    '?*x I want ?*y': ['what would it mean if you got ?y', 'Why do you want ?y', 'Suppose you got ?y soon'],\n",
    "    '?*x if ?*y': ['Do you really think its likely that ?y', 'Do you wish that ?y', 'What do you think about ?y', 'Really-- if ?y'],\n",
    "    '?*x no ?*y': ['why not?', 'You are being a negative', 'Are you saying \\'No\\' just to be negative?'],\n",
    "    '?*x I was ?*y': ['Were you really', 'Perhaps I already knew you were ?y', 'Why do you tell me you were ?y now?'],\n",
    "    '?*x I feel ?*y': ['Do you often feel ?y ?', 'What other feelings do you have?'],\n",
    "    '?*x你好?*y': ['你好呀', '请告诉我你的问题'],\n",
    "    '?*x我想?*y': ['你觉得?y有什么意义呢？', '为什么你想?y', '你可以想想你很快就可以?y了'],\n",
    "    '?*x我想要?*y': ['?x想问你，你觉得?y有什么意义呢?', '为什么你想?y', '?x觉得... 你可以想想你很快就可以有?y了', '你看?x像?y不', '我看你就像?y'],\n",
    "    '?*x喜欢?*y': ['喜欢?y的哪里？', '?y有什么好的呢？', '你想要?y吗？'],\n",
    "    '?*x讨厌?*y': ['?y怎么会那么讨厌呢?', '讨厌?y的哪里？', '?y有什么不好呢？', '你不想要?y吗？'],\n",
    "    '?*xAI?*y': ['你为什么要提AI的事情？', '你为什么觉得AI要解决你的问题？'],\n",
    "    '?*x机器人?*y': ['你为什么要提机器人的事情？', '你为什么觉得机器人要解决你的问题？'],\n",
    "    '?*x对不起?*y': ['不用道歉', '你为什么觉得你需要道歉呢?'],\n",
    "    '?*x我记得?*y': ['你经常会想起这个吗？', '除了?y你还会想起什么吗？', '你为什么和我提起?y'],\n",
    "    '?*x如果?*y': ['你真的觉得?y会发生吗？', '你希望?y吗?', '真的吗？如果?y的话', '关于?y你怎么想？'],\n",
    "    '?*x我?*z梦见?*y':['真的吗? --- ?y', '你在醒着的时候，以前想象过?y吗？', '你以前梦见过?y吗'],\n",
    "    '?*x妈妈?*y': ['你家里除了?y还有谁?', '嗯嗯，多说一点和你家里有关系的', '她对你影响很大吗？'],\n",
    "    '?*x爸爸?*y': ['你家里除了?y还有谁?', '嗯嗯，多说一点和你家里有关系的', '他对你影响很大吗？', '每当你想起你爸爸的时候， 你还会想起其他的吗?'],\n",
    "    '?*x我愿意?*y': ['我可以帮你?y吗？', '你可以解释一下，为什么想?y'],\n",
    "    '?*x我很难过，因为?*y': ['我听到你这么说， 也很难过', '?y不应该让你这么难过的'],\n",
    "    '?*x难过?*y': ['我听到你这么说， 也很难过',\n",
    "                 '不应该让你这么难过的，你觉得你拥有什么，就会不难过?',\n",
    "                 '你觉得事情变成什么样，你就不难过了?'],\n",
    "    '?*x就像?*y': ['你觉得?x和?y有什么相似性？', '?x和?y真的有关系吗？', '怎么说？'],\n",
    "    '?*x和?*y都?*z': ['你觉得?z有什么问题吗?', '?z会对你有什么影响呢?'],\n",
    "    '?*x和?*y一样?*z': ['你觉得?z有什么问题吗?', '?z会对你有什么影响呢?'],\n",
    "    '?*x我是?*y': ['真的吗？', '?x想告诉你，或许我早就知道你是?y', '你为什么现在才告诉我你是?y'],\n",
    "    '?*x我是?*y吗': ['如果你是?y会怎么样呢？', '你觉得你是?y吗', '如果你是?y，那一位着什么?'],\n",
    "    '?*x你是?*y吗':  ['你为什么会对我是不是?y感兴趣?', '那你希望我是?y吗', '你要是喜欢， 我就会是?y'],\n",
    "    '?*x你是?*y' : ['为什么你觉得我是?y'],\n",
    "    '?*x因为?*y' : ['?y是真正的原因吗？', '你觉得会有其他原因吗?'],\n",
    "    '?*x我不能?*y': ['你或许现在就能?*y', '如果你能?*y,会怎样呢？'],\n",
    "    '?*x我觉得?*y': ['你经常这样感觉吗？', '除了到这个，你还有什么其他的感觉吗？'],\n",
    "    '?*x我?*y你?*z': ['其实很有可能我们互相?y'],\n",
    "    '?*x你为什么不?*y': ['你自己为什么不?y', '你觉得我不会?y', '等我心情好了，我就?y'],\n",
    "    '?*x好的?*y': ['好的', '你是一个很正能量的人'],\n",
    "    '?*x嗯嗯?*y': ['好的', '你是一个很正能量的人'],\n",
    "    '?*x不嘛?*y': ['为什么不？', '你有一点负能量', '你说 不，是想表达不想的意思吗？'],\n",
    "    '?*x不要?*y': ['为什么不？', '你有一点负能量', '你说 不，是想表达不想的意思吗？'],\n",
    "    '?*x有些人?*y': ['具体是哪些人呢?'],\n",
    "    '?*x有的人?*y': ['具体是哪些人呢?'],\n",
    "    '?*x某些人?*y': ['具体是哪些人呢?'],\n",
    "    '?*x每个人?*y': ['我确定不是人人都是', '你能想到一点特殊情况吗？', '例如谁？', '你看到的其实只是一小部分人'],\n",
    "    '?*x所有人?*y': ['我确定不是人人都是', '你能想到一点特殊情况吗？', '例如谁？', '你看到的其实只是一小部分人'],\n",
    "    '?*x总是?*y': ['你能想到一些其他情况吗?', '例如什么时候?', '你具体是说哪一次？', '真的---总是吗？'],\n",
    "    '?*x一直?*y': ['你能想到一些其他情况吗?', '例如什么时候?', '你具体是说哪一次？', '真的---总是吗？'],\n",
    "    '?*x或许?*y': ['你看起来不太确定'],\n",
    "    '?*x可能?*y': ['你看起来不太确定'],\n",
    "    '?*x他们是?*y吗？': ['你觉得他们可能不是?y？'],\n",
    "    '?*x': ['很有趣', '请继续', '我不太确定我很理解你说的, 能稍微详细解释一下吗?']\n",
    "}"
   ]
  },
  {
   "cell_type": "code",
   "execution_count": 3,
   "metadata": {},
   "outputs": [],
   "source": [
    "class ChineseVersion:\n",
    "\n",
    "    def __init__(self):\n",
    "        pass\n",
    "\n",
    "    @classmethod\n",
    "    def is_variable(self, pat):\n",
    "        return pat.startswith('?') and all(p.isalpha() for p in pat[1:])\n",
    "\n",
    "    @classmethod\n",
    "    def is_many_variable(self, pat):\n",
    "        return pat.startswith('?*') and all(p.isalpha() for p in pat[2:])\n",
    "\n",
    "    @classmethod\n",
    "    def pattern_match(self, pattern, saying):\n",
    "        if not pattern or not saying:\n",
    "            return []\n",
    "        if self.is_variable(pattern[0]):\n",
    "            a = [(pattern[0], saying[0])]\n",
    "            b = self.pattern_match(pattern[1:], saying[1:]) if len(pattern) > 1 and len(saying) > 1 else []\n",
    "            return a + b\n",
    "        elif pattern[0] != saying[0]:\n",
    "            return []\n",
    "        else:\n",
    "            return self.pattern_match(pattern[1:], saying[1:])\n",
    "\n",
    "    @classmethod\n",
    "    def pat_match_with_seg(self, pattern, saying):\n",
    "        if not pattern or not saying: return []\n",
    "        pat = pattern[0]\n",
    "        if self.is_variable(pat):\n",
    "            a = [(pattern[0], saying[0])]\n",
    "            b = self.pat_match_with_seg(pattern[1:], saying[1:]) if len(pattern) > 1 and len(saying) > 1 else []\n",
    "            return a + b\n",
    "        elif self.is_many_variable(pat):\n",
    "            match, index = self.segment_match(pattern, saying)\n",
    "            try:\n",
    "                return [match] + self.pat_match_with_seg(pattern[1:], saying[index:])\n",
    "            except Exception as e:\n",
    "                return False\n",
    "        elif pattern[0] != saying[0]: return False\n",
    "        else:\n",
    "            return self.pat_match_with_seg(pattern[1:], saying[1:])\n",
    "\n",
    "    @classmethod\n",
    "    def segment_match(self, pattern, saying):\n",
    "        seg_pat, rest = pattern[0], pattern[1:]\n",
    "        seg_pat = seg_pat.replace('?*', '?')\n",
    "        if not rest: return (seg_pat, saying), len(saying)\n",
    "        for i, token in enumerate(saying):\n",
    "            if rest[0] == token and self.is_match(rest[1:], saying[i + 1:]):\n",
    "                return (seg_pat, saying[:i]), i\n",
    "        return (seg_pat, saying), len(saying)\n",
    "\n",
    "    @classmethod\n",
    "    def is_match(self, rest, saying):\n",
    "        if not rest and not saying:\n",
    "            return True\n",
    "        if not all(a.isalpha() for a in rest[0]):\n",
    "            return True\n",
    "        if rest[0] != saying[0]:\n",
    "            return False\n",
    "        return self.is_match(rest[1:], saying[1:])\n",
    "\n",
    "    @classmethod\n",
    "    def deal_jiebacut_result(self, pattern, saying):\n",
    "        new_pattern = []\n",
    "        for index, pat in enumerate(pattern):\n",
    "            if pat == '?':\n",
    "                if len(pattern[index + 1]) == 1 and pattern[index + 1] == '*':\n",
    "                    if len(pattern[index + 2]) == 1 and pattern[index + 2].isalpha():\n",
    "                        new_pattern.append(pat + pattern[index + 1] + pattern[index + 2])\n",
    "                elif len(pattern[index + 1]) == 1 and pattern[index + 1].isalpha():\n",
    "                    new_pattern.append(pat + pattern[index + 1])\n",
    "            elif len(pat) == 1:\n",
    "                if 65 <= ord(pat) <= 90 or 97 <= ord(pat) <= 122:\n",
    "                    continue\n",
    "                elif pat == '?' or pat == '*':\n",
    "                    continue\n",
    "                else:\n",
    "                    new_pattern.append(pat)\n",
    "            else:\n",
    "                new_pattern.append(pat)\n",
    "        return self.pat_match_with_seg(new_pattern, saying)\n",
    "\n",
    "    @classmethod\n",
    "    def pat_to_dict(self, pat_dict):\n",
    "        try:\n",
    "            return {k: ' '.join(v) if isinstance(v, list) else v for k, v in pat_dict}\n",
    "        except Exception as e:\n",
    "            return None\n",
    "\n",
    "    # def subsitite(self, rule, rule_responses):\n",
    "    #     pass\n",
    "\n",
    "    @classmethod\n",
    "    def get_response(self, rule_responses, saying):\n",
    "        spec_str, values = [], []\n",
    "        for k, v in rule_responses.items():\n",
    "            spec_str = self.deal_jiebacut_result(jieba.lcut(k), jieba.lcut(saying))\n",
    "            if not spec_str:\n",
    "                continue\n",
    "            elif ''.join(spec_str[0][1]) == saying:\n",
    "                continue\n",
    "            if spec_str:\n",
    "                values = random.choice(v)\n",
    "                break\n",
    "        key_value = self.pat_to_dict(spec_str)\n",
    "        for k, v in key_value.items():\n",
    "            if k in values:\n",
    "                values = values.replace(k, v)\n",
    "        return values"
   ]
  },
  {
   "cell_type": "code",
   "execution_count": 6,
   "metadata": {},
   "outputs": [],
   "source": [
    "values = ChineseVersion.get_response(rule_responses, '我喜欢吃火锅')"
   ]
  },
  {
   "cell_type": "code",
   "execution_count": 7,
   "metadata": {},
   "outputs": [
    {
     "data": {
      "text/plain": [
       "'喜欢吃火锅的哪里？'"
      ]
     },
     "execution_count": 7,
     "metadata": {},
     "output_type": "execute_result"
    }
   ],
   "source": [
    "values"
   ]
  },
  {
   "cell_type": "markdown",
   "metadata": {},
   "source": [
    "###  问题：1. 汉语分词之后，特殊字符是分开的，需要deal_jiebacut_result整理，例如：?*x就像?*y 的分词结果：['?','*','x','就像','?','*','y',], 经过deal_jiebacut_result整理后为 ['?*x', '就像', '?*y']。有没有其他的好方法对 ['?','*','x','就像','?','*','y',]进行处理呢？"
   ]
  },
  {
   "cell_type": "markdown",
   "metadata": {},
   "source": [
    "### 问题：2. saying和rule_responses中键要怎么做到精准匹配或者是最完美的匹配到一起？"
   ]
  },
  {
   "cell_type": "markdown",
   "metadata": {},
   "source": [
    "# 感谢助教！这么多份作业，辛苦啦~"
   ]
  }
 ],
 "metadata": {
  "kernelspec": {
   "display_name": "Python 3",
   "language": "python",
   "name": "python3"
  },
  "language_info": {
   "codemirror_mode": {
    "name": "ipython",
    "version": 3
   },
   "file_extension": ".py",
   "mimetype": "text/x-python",
   "name": "python",
   "nbconvert_exporter": "python",
   "pygments_lexer": "ipython3",
   "version": "3.7.3"
  }
 },
 "nbformat": 4,
 "nbformat_minor": 2
}
