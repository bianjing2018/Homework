{
 "cells": [
  {
   "cell_type": "markdown",
   "metadata": {},
   "source": [
    "# KNN实践\n",
    "\n",
    "knn 又称为k近邻，是一种基于分类和回归的方法。\n",
    "在给定训练集的情况下，对新的未知数据进行预测"
   ]
  },
  {
   "cell_type": "code",
   "execution_count": 4,
   "metadata": {},
   "outputs": [],
   "source": [
    "import sklearn\n",
    "import matplotlib.pyplot as plt\n",
    "import numpy as np"
   ]
  },
  {
   "cell_type": "code",
   "execution_count": 3,
   "metadata": {},
   "outputs": [
    {
     "name": "stdout",
     "output_type": "stream",
     "text": [
      "['/usr/local/lib/python3.7/site-packages/matplotlib']\n"
     ]
    }
   ],
   "source": [
    "import matplotlib\n",
    "print(matplotlib.__path__)"
   ]
  },
  {
   "cell_type": "code",
   "execution_count": 64,
   "metadata": {},
   "outputs": [],
   "source": [
    "np.random.seed(0)\n",
    "xy1 = np.random.randn(50, 2) - 2\n",
    "np.random.seed(30)\n",
    "xy2 = np.random.randn(50, 2) + 2"
   ]
  },
  {
   "cell_type": "code",
   "execution_count": 65,
   "metadata": {},
   "outputs": [],
   "source": [
    "x1 = xy1[:, 0],y1 = xy1[:, 1],x2 = xy2[:, 0],y2 = xy2[:, 1]"
   ]
  },
  {
   "cell_type": "code",
   "execution_count": 75,
   "metadata": {},
   "outputs": [
    {
     "name": "stderr",
     "output_type": "stream",
     "text": [
      "/usr/local/lib/python3.7/site-packages/matplotlib/backends/backend_agg.py:211: RuntimeWarning: Glyph 8722 missing from current font.\n",
      "  font.set_text(s, 0.0, flags=flags)\n",
      "/usr/local/lib/python3.7/site-packages/matplotlib/backends/backend_agg.py:180: RuntimeWarning: Glyph 8722 missing from current font.\n",
      "  font.set_text(s, 0, flags=flags)\n"
     ]
    },
    {
     "data": {
      "image/png": "[encoded data removed]",
      "text/plain": [
       "<Figure size 432x288 with 1 Axes>"
      ]
     },
     "metadata": {
      "needs_background": "light"
     },
     "output_type": "display_data"
    }
   ],
   "source": [
    "plt.figure('两组坐标显示')\n",
    "plt.xlabel('横坐标')\n",
    "plt.ylabel('纵坐标')\n",
    "plt.scatter(x1, y1, c='r')\n",
    "plt.scatter(x2, y2, c='b')\n",
    "plt.scatter(np.array(-0.8), np.array(1.6), c='g')\n",
    "plt.annotate('未知点', (-0.8, 1.6), xytext=(-1.5, 2.5), arrowprops={\"arrowstyle\":\"->\", \"color\":\"g\"}, color='g')\n",
    "plt.show()"
   ]
  },
  {
   "cell_type": "code",
   "execution_count": 76,
   "metadata": {},
   "outputs": [],
   "source": [
    "no_dot = np.array([-0.8, 1.6])\n",
    "numpy.sqrt(numpy.sum(numpy.square(vec1 - vec2)))"
   ]
  },
  {
   "cell_type": "code",
   "execution_count": 104,
   "metadata": {},
   "outputs": [],
   "source": [
    "# 利用欧氏距离计算其最近的点\n",
    "def knn_neighbers(k=1):\n",
    "    solution = {}\n",
    "    for xy in xy1:\n",
    "        solution[(xy[0], xy[1])] = np.sqrt(np.square(xy[0] - no_dot[0]) + np.square(xy[1] - no_dot[1]))\n",
    "        \n",
    "    for xy in xy2:\n",
    "        solution[(xy[0], xy[1])] = np.sqrt(np.square(xy[0] - no_dot[0]) + np.square(xy[1] - no_dot[1]))\n",
    "    \n",
    "    return sorted(solution.items(), key= lambda x: x[1])[: k]\n",
    "neighbors = knn_neighbers(5)"
   ]
  },
  {
   "cell_type": "code",
   "execution_count": 105,
   "metadata": {},
   "outputs": [
    {
     "data": {
      "text/plain": [
       "[((-1.0212620158942607, 0.2408931992014578), 1.37699970067333),\n",
       " ((0.41800470795809597, 0.7568858150391833), 1.4813429709186963),\n",
       " ((-0.08389663210556275, 2.9377817100958135), 1.5173872074644081),\n",
       " ((0.8367176275386774, 1.9786649007474513), 1.679949909775263),\n",
       " ((-0.5117478062044003, -0.10411082396941684), 1.7283179764145546)]"
      ]
     },
     "execution_count": 105,
     "metadata": {},
     "output_type": "execute_result"
    }
   ],
   "source": [
    "neighbors"
   ]
  },
  {
   "cell_type": "code",
   "execution_count": 107,
   "metadata": {},
   "outputs": [],
   "source": [
    "neighbors = np.array([list(n[0])for n in neighbors])"
   ]
  },
  {
   "cell_type": "code",
   "execution_count": 108,
   "metadata": {},
   "outputs": [
    {
     "data": {
      "text/plain": [
       "array([[-1.02126202,  0.2408932 ],\n",
       "       [ 0.41800471,  0.75688582],\n",
       "       [-0.08389663,  2.93778171],\n",
       "       [ 0.83671763,  1.9786649 ],\n",
       "       [-0.51174781, -0.10411082]])"
      ]
     },
     "execution_count": 108,
     "metadata": {},
     "output_type": "execute_result"
    }
   ],
   "source": [
    "neighbors"
   ]
  },
  {
   "cell_type": "code",
   "execution_count": 114,
   "metadata": {},
   "outputs": [
    {
     "data": {
      "image/png": "[encoded data removed]",
      "text/plain": [
       "<Figure size 432x288 with 1 Axes>"
      ]
     },
     "metadata": {
      "needs_background": "light"
     },
     "output_type": "display_data"
    }
   ],
   "source": [
    "plt.figure('两组坐标显示')\n",
    "plt.xlabel('横坐标')\n",
    "plt.ylabel('纵坐标')\n",
    "plt.scatter(x1, y1, c='r')\n",
    "plt.scatter(x2, y2, c='b')\n",
    "plt.scatter(np.array(-0.8), np.array(1.6), c='g')\n",
    "plt.annotate('未知点', (-0.8, 1.6), xytext=(-1.5, 2.5), arrowprops={\"arrowstyle\":\"->\", \"color\":\"g\"}, color='g')\n",
    "plt.scatter(neighbors[:, 0], neighbors[:, 1], c='gold')\n",
    "plt.show()"
   ]
  },
  {
   "cell_type": "code",
   "execution_count": 117,
   "metadata": {},
   "outputs": [],
   "source": [
    "from sklearn import neighbors\n",
    "ones = np.ones(50)  # 定义红色点为类型 1\n",
    "zeros = np.zeros(50) # 定义蓝色点为类型 0\n",
    "xy1_ones = np.c_[xy1, ones]\n",
    "xy2_zeros = np.c_[xy2, zeros]\n",
    "xy = np.append(xy1_ones, xy2_zeros, axis=0)"
   ]
  },
  {
   "cell_type": "code",
   "execution_count": 195,
   "metadata": {},
   "outputs": [
    {
     "data": {
      "image/png": "[encoded data removed]",
      "text/plain": [
       "<Figure size 432x288 with 1 Axes>"
      ]
     },
     "metadata": {
      "needs_background": "light"
     },
     "output_type": "display_data"
    }
   ],
   "source": [
    "plt.figure('skearn-knns的使用')\n",
    "plt.xlabel('x坐标')\n",
    "plt.ylabel('y坐标')\n",
    "plt.scatter(xy[:, 0], xy[:, 1], c=xy[:, 2], cmap='RdYlBu_r')\n",
    "plt.legend(loc=2, labels=['red->1; blue->0'])\n",
    "plt.show()"
   ]
  },
  {
   "cell_type": "code",
   "execution_count": 182,
   "metadata": {},
   "outputs": [],
   "source": [
    "model = neighbors.KNeighborsClassifier(n_neighbors=5)\n",
    "model.fit(xy[:,:2], xy[:, 2])"
   ]
  },
  {
   "cell_type": "code",
   "execution_count": 196,
   "metadata": {},
   "outputs": [
    {
     "data": {
      "text/plain": [
       "array([0.])"
      ]
     },
     "execution_count": 196,
     "metadata": {},
     "output_type": "execute_result"
    }
   ],
   "source": [
    "model.predict(np.array([[-0.8, 1.6]]))"
   ]
  },
  {
   "cell_type": "code",
   "execution_count": 186,
   "metadata": {},
   "outputs": [
    {
     "data": {
      "text/plain": [
       "array([0.])"
      ]
     },
     "execution_count": 186,
     "metadata": {},
     "output_type": "execute_result"
    }
   ],
   "source": []
  },
  {
   "cell_type": "code",
   "execution_count": null,
   "metadata": {},
   "outputs": [],
   "source": []
  },
  {
   "cell_type": "code",
   "execution_count": null,
   "metadata": {},
   "outputs": [],
   "source": []
  }
 ],
 "metadata": {
  "kernelspec": {
   "display_name": "Python 3",
   "language": "python",
   "name": "python3"
  },
  "language_info": {
   "codemirror_mode": {
    "name": "ipython",
    "version": 3
   },
   "file_extension": ".py",
   "mimetype": "text/x-python",
   "name": "python",
   "nbconvert_exporter": "python",
   "pygments_lexer": "ipython3",
   "version": "3.7.3"
  }
 },
 "nbformat": 4,
 "nbformat_minor": 2
}
