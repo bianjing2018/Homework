{
 "cells": [
  {
   "cell_type": "markdown",
   "metadata": {},
   "source": [
    "## 正则使用"
   ]
  },
  {
   "cell_type": "code",
   "execution_count": 38,
   "metadata": {},
   "outputs": [
    {
     "name": "stdout",
     "output_type": "stream",
     "text": [
      "['/usr/local/lib/python3.7/site-packages/matplotlib']\n"
     ]
    }
   ],
   "source": [
    "import matplotlib\n",
    "print(matplotlib.__path__)"
   ]
  },
  {
   "cell_type": "code",
   "execution_count": 39,
   "metadata": {},
   "outputs": [],
   "source": [
    "coordination_source = \"\"\"\n",
    "{name:'兰州', geoCoord:[103.73, 36.03]},\n",
    "{name:'嘉峪关', geoCoord:[98.17, 39.47]},\n",
    "{name:'西宁', geoCoord:[101.74, 36.56]},\n",
    "{name:'成都', geoCoord:[104.06, 30.67]},\n",
    "{name:'石家庄', geoCoord:[114.48, 38.03]},\n",
    "{name:'拉萨', geoCoord:[102.73, 25.04]},\n",
    "{name:'贵阳', geoCoord:[106.71, 26.57]},\n",
    "{name:'武汉', geoCoord:[114.31, 30.52]},\n",
    "{name:'郑州', geoCoord:[113.65, 34.76]},\n",
    "{name:'济南', geoCoord:[117, 36.65]},\n",
    "{name:'南京', geoCoord:[118.78, 32.04]},\n",
    "{name:'合肥', geoCoord:[117.27, 31.86]},\n",
    "{name:'杭州', geoCoord:[120.19, 30.26]},\n",
    "{name:'南昌', geoCoord:[115.89, 28.68]},\n",
    "{name:'福州', geoCoord:[119.3, 26.08]},\n",
    "{name:'广州', geoCoord:[113.23, 23.16]},\n",
    "{name:'长沙', geoCoord:[113, 28.21]},\n",
    "//{name:'海口', geoCoord:[110.35, 20.02]},\n",
    "{name:'沈阳', geoCoord:[123.38, 41.8]},\n",
    "{name:'长春', geoCoord:[125.35, 43.88]},\n",
    "{name:'哈尔滨', geoCoord:[126.63, 45.75]},\n",
    "{name:'太原', geoCoord:[112.53, 37.87]},\n",
    "{name:'西安', geoCoord:[108.95, 34.27]},\n",
    "//{name:'台湾', geoCoord:[121.30, 25.03]},\n",
    "{name:'北京', geoCoord:[116.46, 39.92]},\n",
    "{name:'上海', geoCoord:[121.48, 31.22]},\n",
    "{name:'重庆', geoCoord:[106.54, 29.59]},\n",
    "{name:'天津', geoCoord:[117.2, 39.13]},\n",
    "{name:'呼和浩特', geoCoord:[111.65, 40.82]},\n",
    "{name:'南宁', geoCoord:[108.33, 22.84]},\n",
    "//{name:'西藏', geoCoord:[91.11, 29.97]},\n",
    "{name:'银川', geoCoord:[106.27, 38.47]},\n",
    "{name:'乌鲁木齐', geoCoord:[87.68, 43.77]},\n",
    "{name:'香港', geoCoord:[114.17, 22.28]},\n",
    "{name:'澳门', geoCoord:[113.54, 22.19]}\n",
    "\"\"\""
   ]
  },
  {
   "cell_type": "code",
   "execution_count": 40,
   "metadata": {},
   "outputs": [
    {
     "data": {
      "text/plain": [
       "['',\n",
       " \"{name:'兰州', geoCoord:[103.73, 36.03]},\",\n",
       " \"{name:'嘉峪关', geoCoord:[98.17, 39.47]},\",\n",
       " \"{name:'西宁', geoCoord:[101.74, 36.56]},\",\n",
       " \"{name:'成都', geoCoord:[104.06, 30.67]},\",\n",
       " \"{name:'石家庄', geoCoord:[114.48, 38.03]},\",\n",
       " \"{name:'拉萨', geoCoord:[102.73, 25.04]},\",\n",
       " \"{name:'贵阳', geoCoord:[106.71, 26.57]},\",\n",
       " \"{name:'武汉', geoCoord:[114.31, 30.52]},\",\n",
       " \"{name:'郑州', geoCoord:[113.65, 34.76]},\",\n",
       " \"{name:'济南', geoCoord:[117, 36.65]},\",\n",
       " \"{name:'南京', geoCoord:[118.78, 32.04]},\",\n",
       " \"{name:'合肥', geoCoord:[117.27, 31.86]},\",\n",
       " \"{name:'杭州', geoCoord:[120.19, 30.26]},\",\n",
       " \"{name:'南昌', geoCoord:[115.89, 28.68]},\",\n",
       " \"{name:'福州', geoCoord:[119.3, 26.08]},\",\n",
       " \"{name:'广州', geoCoord:[113.23, 23.16]},\",\n",
       " \"{name:'长沙', geoCoord:[113, 28.21]},\",\n",
       " \"//{name:'海口', geoCoord:[110.35, 20.02]},\",\n",
       " \"{name:'沈阳', geoCoord:[123.38, 41.8]},\",\n",
       " \"{name:'长春', geoCoord:[125.35, 43.88]},\",\n",
       " \"{name:'哈尔滨', geoCoord:[126.63, 45.75]},\",\n",
       " \"{name:'太原', geoCoord:[112.53, 37.87]},\",\n",
       " \"{name:'西安', geoCoord:[108.95, 34.27]},\",\n",
       " \"//{name:'台湾', geoCoord:[121.30, 25.03]},\",\n",
       " \"{name:'北京', geoCoord:[116.46, 39.92]},\",\n",
       " \"{name:'上海', geoCoord:[121.48, 31.22]},\",\n",
       " \"{name:'重庆', geoCoord:[106.54, 29.59]},\",\n",
       " \"{name:'天津', geoCoord:[117.2, 39.13]},\",\n",
       " \"{name:'呼和浩特', geoCoord:[111.65, 40.82]},\",\n",
       " \"{name:'南宁', geoCoord:[108.33, 22.84]},\",\n",
       " \"//{name:'西藏', geoCoord:[91.11, 29.97]},\",\n",
       " \"{name:'银川', geoCoord:[106.27, 38.47]},\",\n",
       " \"{name:'乌鲁木齐', geoCoord:[87.68, 43.77]},\",\n",
       " \"{name:'香港', geoCoord:[114.17, 22.28]},\",\n",
       " \"{name:'澳门', geoCoord:[113.54, 22.19]}\",\n",
       " '']"
      ]
     },
     "execution_count": 40,
     "metadata": {},
     "output_type": "execute_result"
    }
   ],
   "source": [
    "coordination_source.split('\\n')"
   ]
  },
  {
   "cell_type": "code",
   "execution_count": 41,
   "metadata": {},
   "outputs": [],
   "source": [
    "import re"
   ]
  },
  {
   "cell_type": "code",
   "execution_count": 93,
   "metadata": {},
   "outputs": [],
   "source": [
    "def reguler_match(coordination_source):\n",
    "    city_location = {}\n",
    "    for line in coordination_source.split('\\n'):\n",
    "        if not line: continue\n",
    "        pattern = re.compile(r\"name:'(\\w+)',\\s+geoCoord:\\[(\\d+\\.?\\d+),\\s+(\\d+\\.?\\d+)\\]\")\n",
    "        city, long, lat = re.findall(pattern, line)[0]\n",
    "        city_location[city] = (float(long), float(lat))\n",
    "    return city_location"
   ]
  },
  {
   "cell_type": "code",
   "execution_count": 94,
   "metadata": {},
   "outputs": [],
   "source": [
    "city_location = reguler_match(coordination_source)"
   ]
  },
  {
   "cell_type": "code",
   "execution_count": 95,
   "metadata": {},
   "outputs": [],
   "source": [
    "import networkx as nx\n",
    "import math"
   ]
  },
  {
   "cell_type": "code",
   "execution_count": 96,
   "metadata": {},
   "outputs": [],
   "source": [
    "city_graph = nx.Graph()\n",
    "city_graph.add_nodes_from(list(city_location.keys()))"
   ]
  },
  {
   "cell_type": "code",
   "execution_count": 97,
   "metadata": {},
   "outputs": [],
   "source": [
    "%matplotlib inline"
   ]
  },
  {
   "cell_type": "code",
   "execution_count": 98,
   "metadata": {},
   "outputs": [],
   "source": [
    "import matplotlib.pyplot as plt"
   ]
  },
  {
   "cell_type": "code",
   "execution_count": 106,
   "metadata": {},
   "outputs": [],
   "source": [
    "plt.rcParams['font.sans-serif'] = ['SimHei']\n",
    "plt.rcParams['axes.unicode_minus'] = False"
   ]
  },
  {
   "cell_type": "code",
   "execution_count": 107,
   "metadata": {},
   "outputs": [
    {
     "data": {
      "image/png": "[encoded data removed]",
      "text/plain": [
       "<Figure size 432x288 with 1 Axes>"
      ]
     },
     "metadata": {},
     "output_type": "display_data"
    }
   ],
   "source": [
    "nx.draw(city_graph, city_location, with_labels=True, node_size=30)"
   ]
  },
  {
   "cell_type": "code",
   "execution_count": 51,
   "metadata": {},
   "outputs": [],
   "source": [
    "def geo_distance(origin, destination):\n",
    "    \"\"\"\n",
    "    Calculate the Haversine distance.\n",
    "\n",
    "    Parameters\n",
    "    ----------\n",
    "    origin : tuple of float\n",
    "        (lat, long)\n",
    "    destination : tuple of float\n",
    "        (lat, long)\n",
    "\n",
    "    Returns\n",
    "    -------\n",
    "    distance_in_km : float\n",
    "\n",
    "    Examples\n",
    "    --------\n",
    "    >>> origin = (48.1372, 11.5756)  # Munich\n",
    "    >>> destination = (52.5186, 13.4083)  # Berlin\n",
    "    >>> round(distance(origin, destination), 1)\n",
    "    504.2\n",
    "    \"\"\"\n",
    "    lat1, lon1 = origin\n",
    "    lat2, lon2 = destination\n",
    "    radius = 6371  # km\n",
    "\n",
    "    dlat = math.radians(lat2 - lat1)\n",
    "    dlon = math.radians(lon2 - lon1)\n",
    "    a = (math.sin(dlat / 2) * math.sin(dlat / 2) +\n",
    "         math.cos(math.radians(lat1)) * math.cos(math.radians(lat2)) *\n",
    "         math.sin(dlon / 2) * math.sin(dlon / 2))\n",
    "    c = 2 * math.atan2(math.sqrt(a), math.sqrt(1 - a))\n",
    "    d = radius * c\n",
    "\n",
    "    return d"
   ]
  },
  {
   "cell_type": "code",
   "execution_count": 52,
   "metadata": {},
   "outputs": [],
   "source": [
    "distence = 300"
   ]
  },
  {
   "cell_type": "code",
   "execution_count": 53,
   "metadata": {},
   "outputs": [
    {
     "data": {
      "text/plain": [
       "1179.4354028957505"
      ]
     },
     "execution_count": 53,
     "metadata": {},
     "output_type": "execute_result"
    }
   ],
   "source": [
    "geo_distance(city_location['北京'], city_location['哈尔滨'])"
   ]
  },
  {
   "cell_type": "code",
   "execution_count": 54,
   "metadata": {},
   "outputs": [],
   "source": [
    "city_connection = {}"
   ]
  },
  {
   "cell_type": "code",
   "execution_count": 55,
   "metadata": {},
   "outputs": [],
   "source": [
    "for city_start in city_location:\n",
    "    connection = []\n",
    "    for city_stop in city_location:\n",
    "        if city_start == city_stop: continue\n",
    "        if geo_distance(city_location[city_start], city_location[city_stop]) <= distence:\n",
    "            connection.append(city_stop)\n",
    "        else:\n",
    "            continue\n",
    "    city_connection[city_start] = connection"
   ]
  },
  {
   "cell_type": "code",
   "execution_count": 56,
   "metadata": {},
   "outputs": [
    {
     "data": {
      "text/plain": [
       "{'兰州': ['西宁', '成都', '银川'],\n",
       " '嘉峪关': [],\n",
       " '西宁': ['兰州', '成都', '拉萨'],\n",
       " '成都': ['兰州', '西宁', '拉萨', '重庆'],\n",
       " '石家庄': ['郑州', '济南', '太原', '北京'],\n",
       " '拉萨': ['西宁', '成都'],\n",
       " '贵阳': ['重庆', '南宁'],\n",
       " '武汉': ['郑州', '南昌', '长沙'],\n",
       " '郑州': ['石家庄', '武汉', '长沙', '太原'],\n",
       " '济南': ['石家庄', '合肥', '北京', '天津'],\n",
       " '南京': ['合肥', '杭州'],\n",
       " '合肥': ['济南', '南京', '南昌'],\n",
       " '杭州': ['南京', '福州', '上海'],\n",
       " '南昌': ['武汉', '合肥'],\n",
       " '福州': ['杭州', '台湾'],\n",
       " '广州': ['长沙', '香港', '澳门'],\n",
       " '长沙': ['武汉', '郑州', '广州', '香港', '澳门'],\n",
       " '海口': ['南宁'],\n",
       " '沈阳': ['长春'],\n",
       " '长春': ['沈阳', '哈尔滨'],\n",
       " '哈尔滨': ['长春'],\n",
       " '太原': ['石家庄', '郑州', '呼和浩特'],\n",
       " '西安': [],\n",
       " '台湾': ['福州'],\n",
       " '北京': ['石家庄', '济南', '天津'],\n",
       " '上海': ['杭州'],\n",
       " '重庆': ['成都', '贵阳', '银川'],\n",
       " '天津': ['济南', '北京'],\n",
       " '呼和浩特': ['太原'],\n",
       " '南宁': ['贵阳', '海口'],\n",
       " '西藏': [],\n",
       " '银川': ['兰州', '重庆'],\n",
       " '乌鲁木齐': [],\n",
       " '香港': ['广州', '长沙', '澳门'],\n",
       " '澳门': ['广州', '长沙', '香港']}"
      ]
     },
     "execution_count": 56,
     "metadata": {},
     "output_type": "execute_result"
    }
   ],
   "source": [
    "city_connection"
   ]
  },
  {
   "cell_type": "code",
   "execution_count": 57,
   "metadata": {},
   "outputs": [],
   "source": [
    "city_with_road = nx.Graph(city_connection)"
   ]
  },
  {
   "cell_type": "code",
   "execution_count": 58,
   "metadata": {},
   "outputs": [
    {
     "data": {
      "image/png": "[encoded data removed]",
      "text/plain": [
       "<Figure size 432x288 with 1 Axes>"
      ]
     },
     "metadata": {},
     "output_type": "display_data"
    }
   ],
   "source": [
    "nx.draw(city_with_road, city_location, with_labels=True, node_size=30)"
   ]
  },
  {
   "cell_type": "code",
   "execution_count": 81,
   "metadata": {},
   "outputs": [],
   "source": [
    "definition = {1: [2, 3],\n",
    "              2: [1, 4],\n",
    "              3: [1, 5],\n",
    "              4: [2, 6],\n",
    "              5: [3, 7]}"
   ]
  },
  {
   "cell_type": "code",
   "execution_count": 82,
   "metadata": {},
   "outputs": [],
   "source": [
    "from collections import defaultdict\n",
    "definition = defaultdict(list)\n",
    "definition.update( {1: [2, 3],\n",
    "              2: [1, 4],\n",
    "              3: [1, 5],\n",
    "              4: [2, 6],\n",
    "              5: [3, 7]})"
   ]
  },
  {
   "cell_type": "code",
   "execution_count": 61,
   "metadata": {},
   "outputs": [],
   "source": [
    "def bfs(graph, start):\n",
    "    \"\"\"\n",
    "    breath first search\n",
    "    \"\"\"\n",
    "    visited = [start]  # [1]\n",
    "    \n",
    "    seen = set()\n",
    "     \n",
    "    while visited:\n",
    "        froninter = visited.pop() # 1\n",
    "        \n",
    "        if froninter in seen: continue\n",
    "        \n",
    "        for successor in graph[froninter]: #[2, 3]\n",
    "            if successor in seen: continue\n",
    "            print(successor)\n",
    "            \n",
    "            #visited = visited + [successor] # 我们每次扩展都扩展最新发现的点 -> depth first\n",
    "            visited = [successor] + visited # 我们每次扩展都先考虑已经发现的 老的点 -> breath first\n",
    "            \n",
    "            # 所以说，这个扩展顺序其实是决定了我们的深度优先还是广度优先\n",
    "    \n",
    "        seen.add(froninter)\n",
    "    \n",
    "    return seen"
   ]
  },
  {
   "cell_type": "code",
   "execution_count": 62,
   "metadata": {},
   "outputs": [
    {
     "name": "stdout",
     "output_type": "stream",
     "text": [
      "2\n",
      "3\n",
      "4\n",
      "5\n",
      "6\n",
      "7\n"
     ]
    },
    {
     "data": {
      "text/plain": [
       "{1, 2, 3, 4, 5, 6, 7}"
      ]
     },
     "execution_count": 62,
     "metadata": {},
     "output_type": "execute_result"
    }
   ],
   "source": [
    "bfs(definition, 1)\n"
   ]
  },
  {
   "cell_type": "code",
   "execution_count": 89,
   "metadata": {},
   "outputs": [],
   "source": [
    "def bfs_m(graph, start):\n",
    "    seened = list()\n",
    "    visited = [start] \n",
    "    while visited:\n",
    "        current_visit = visited.pop(-1) # pop最后一个 \n",
    "        for successor in graph[current_visit]:\n",
    "            if successor in seened: continue\n",
    "#             print(successor)\n",
    "            visited = visited + [successor]\n",
    "#             visited = [successor] + visited\n",
    "        seened.append(current_visit)\n",
    "    return seened\n",
    "    "
   ]
  },
  {
   "cell_type": "code",
   "execution_count": 108,
   "metadata": {},
   "outputs": [
    {
     "name": "stdout",
     "output_type": "stream",
     "text": [
      "2\n",
      "3\n",
      "5\n",
      "7\n",
      "4\n",
      "6\n"
     ]
    },
    {
     "data": {
      "text/plain": [
       "[1, 3, 5, 7, 2, 4, 6]"
      ]
     },
     "execution_count": 108,
     "metadata": {},
     "output_type": "execute_result"
    }
   ],
   "source": [
    "bfs_m(definition, 1)"
   ]
  },
  {
   "cell_type": "code",
   "execution_count": 205,
   "metadata": {},
   "outputs": [],
   "source": [
    "def search_path(start, destination, connection_grpah):\n",
    "    pathes = [[start]] # 记录经过的城市\n",
    "    visitied = set() # 记录将要经过的城市\n",
    "    while pathes:\n",
    "        path = pathes.pop(0)\n",
    "        froninter = path[-1]\n",
    "        if froninter in visitied: continue\n",
    "        successors = connection_grpah[froninter]\n",
    "        for city in successors:\n",
    "            if city in path: continue\n",
    "            new_path = path + [city]\n",
    "            pathes.append(new_path)\n",
    "            if city == destination: return new_path\n",
    "        visitied.add(froninter)"
   ]
  },
  {
   "cell_type": "code",
   "execution_count": 206,
   "metadata": {},
   "outputs": [],
   "source": [
    "def search(start, destination, connection_grpah):\n",
    "    pathes = [[start]]\n",
    "    visitied = set()\n",
    "    while pathes: \n",
    "        path = pathes.pop(0)\n",
    "        froninter = path[-1] \n",
    "        if froninter in visitied: continue   \n",
    "        successors = connection_grpah[froninter]\n",
    "        for city in successors:\n",
    "            if city in path: continue  # eliminate loop    \n",
    "            new_path = path + [city]\n",
    "            pathes.append(new_path)\n",
    "            if city == destination: return new_path\n",
    "        visitied.add(froninter)\n",
    "        \n"
   ]
  },
  {
   "cell_type": "code",
   "execution_count": 207,
   "metadata": {},
   "outputs": [
    {
     "name": "stdout",
     "output_type": "stream",
     "text": [
      "['北京', '济南', '合肥', '南京', '杭州', '上海']\n"
     ]
    }
   ],
   "source": [
    "print(search_path('北京', '上海', city_connection))"
   ]
  },
  {
   "cell_type": "code",
   "execution_count": 198,
   "metadata": {},
   "outputs": [
    {
     "name": "stdout",
     "output_type": "stream",
     "text": [
      "None\n"
     ]
    }
   ],
   "source": [
    "print(search_path(city_connection, '北京', '上海'))"
   ]
  },
  {
   "cell_type": "code",
   "execution_count": null,
   "metadata": {},
   "outputs": [],
   "source": []
  }
 ],
 "metadata": {
  "kernelspec": {
   "display_name": "Python 3",
   "language": "python",
   "name": "python3"
  },
  "language_info": {
   "codemirror_mode": {
    "name": "ipython",
    "version": 3
   },
   "file_extension": ".py",
   "mimetype": "text/x-python",
   "name": "python",
   "nbconvert_exporter": "python",
   "pygments_lexer": "ipython3",
   "version": "3.7.3"
  }
 },
 "nbformat": 4,
 "nbformat_minor": 2
}
