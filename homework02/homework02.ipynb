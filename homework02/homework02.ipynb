{
 "cells": [
  {
   "cell_type": "markdown",
   "metadata": {},
   "source": [
    "## 2. Answer following questions:\n",
    "\n",
    "\n",
    "###### 1. Why do we need machine learning methods instead of creating a complicated formula?"
   ]
  },
  {
   "cell_type": "markdown",
   "metadata": {},
   "source": [
    "复杂的公式往往只能够解决某一种或者某一类问题，可扩展性低维护成本高。"
   ]
  },
  {
   "cell_type": "markdown",
   "metadata": {},
   "source": [
    "###### 2.  Wha't's the disadvantages of `the 1st Random Choosen` methods in our course? "
   ]
  },
  {
   "cell_type": "markdown",
   "metadata": {},
   "source": [
    "随机参数取值变化大小方向都不固定，最终导致的结果可能是不收敛的，无法得到合理的值。并且random choice人为设定的取值范围未必合理"
   ]
  },
  {
   "cell_type": "markdown",
   "metadata": {},
   "source": [
    "###### 3. Is the `2nd method supervised direction` better than 1st one?  What's the disadvantages of `the 2nd supversied directin` method? "
   ]
  },
  {
   "cell_type": "markdown",
   "metadata": {},
   "source": [
    "课程中第二种方法在第一种方式情况下增加了方向监控，每次loss值减小时控制其沿着此方向继续进行，相比于第一种方式执行速度更快每次都是有针对性的执行。\n",
    "但是第二种方式，只能一定范围内找到其相对较好的值，而无法确定全局最优或极优解"
   ]
  },
  {
   "cell_type": "markdown",
   "metadata": {},
   "source": [
    "###### 4. Why do we use `Derivative / Gredient` to fit a target function? "
   ]
  },
  {
   "cell_type": "markdown",
   "metadata": {},
   "source": [
    "梯度下降能够精确的定位损失函数较小的方向，只要控制好其学习率便能够较快的得到一个最优解"
   ]
  },
  {
   "cell_type": "markdown",
   "metadata": {},
   "source": [
    "###### 5. In the words 'Gredient Descent', what's the `Gredient` and what's the `Descent`?"
   ]
  },
  {
   "cell_type": "markdown",
   "metadata": {},
   "source": [
    "在求参数k的值时，往往是通过找到损失函数的最优解。\n",
    "\n",
    "导数：导数的意义值的是曲线或曲面某点切线的斜率，\n",
    "\n",
    "方向导数：指导数的变化方向\n",
    "\n",
    "根据如果导数值大于0，向其反方向不断的迭代更新便能够找到全局或者局部的最优解"
   ]
  },
  {
   "cell_type": "markdown",
   "metadata": {},
   "source": [
    "###### 6. What's the advantages of `the 3rd gradient descent method` compared to the previous methods?"
   ]
  },
  {
   "cell_type": "code",
   "execution_count": null,
   "metadata": {},
   "outputs": [],
   "source": [
    "梯度下降以数学为基础，能够快速准确的找到最优解。"
   ]
  },
  {
   "cell_type": "markdown",
   "metadata": {},
   "source": [
    "###### 7. Using the simple words to describe: What's the machine leanring."
   ]
  },
  {
   "cell_type": "markdown",
   "metadata": {},
   "source": [
    "机器学习是基于数学的数据驱动的计算机算法"
   ]
  },
  {
   "cell_type": "markdown",
   "metadata": {},
   "source": [
    "#"
   ]
  },
  {
   "cell_type": "markdown",
   "metadata": {},
   "source": [
    "# coding 部分"
   ]
  },
  {
   "cell_type": "code",
   "execution_count": 5,
   "metadata": {},
   "outputs": [],
   "source": [
    "import re\n",
    "import json, requests\n",
    "from collections import defaultdict\n",
    "from operator import itemgetter"
   ]
  },
  {
   "cell_type": "markdown",
   "metadata": {},
   "source": [
    "##### 获取地铁站，及地铁线"
   ]
  },
  {
   "cell_type": "code",
   "execution_count": 48,
   "metadata": {},
   "outputs": [],
   "source": [
    "def deal_subway_data():\n",
    "    with open('beijing.xml') as f:\n",
    "        datas = f.read()\n",
    "    pattern = re.compile('\\s+lb=\"(\\w+)\"')\n",
    "    station = re.findall(pattern, datas)\n",
    "    pattern1 = re.compile('<l lid=\"\\w+\"\\s+lb=\"(\\w+)\"')\n",
    "    lines = re.findall(pattern1, datas)\n",
    "    return station, lines"
   ]
  },
  {
   "cell_type": "markdown",
   "metadata": {},
   "source": [
    "##### 获取每条线的 所有站"
   ]
  },
  {
   "cell_type": "code",
   "execution_count": 49,
   "metadata": {},
   "outputs": [],
   "source": [
    "def subways_related(lines, station):\n",
    "    subways = {}\n",
    "    for i in range(len(lines)):\n",
    "        if lines[i] == '机场线':\n",
    "            pass\n",
    "            # subways[lines[i]] = station[station.index(lines[i])+1:]\n",
    "        else:\n",
    "            subways[lines[i]] = station[station.index(lines[i])+1:station.index(lines[i+1])]\n",
    "    subways['机场线'] = ['东直门', '三元桥', '3号航站楼', '2号航站楼']\n",
    "    return subways"
   ]
  },
  {
   "cell_type": "markdown",
   "metadata": {},
   "source": [
    "##### 建立地铁线路的关系图"
   ]
  },
  {
   "cell_type": "code",
   "execution_count": 50,
   "metadata": {},
   "outputs": [],
   "source": [
    "def graph_subway_lines(subways):\n",
    "    # 地铁线关系图\n",
    "    subway_line = defaultdict(list)\n",
    "    for s1 in subways:\n",
    "        for s2 in subways:\n",
    "            if s1 == s2: continue\n",
    "            if len(subways[s1][1:] + subways[s2][1:]) != len(set(subways[s1][1:] + subways[s2][1:])):\n",
    "                subway_line[s1] = subway_line[s1] + [s2]\n",
    "    return subway_line"
   ]
  },
  {
   "cell_type": "markdown",
   "metadata": {},
   "source": [
    "##### 建立地铁站的关系图"
   ]
  },
  {
   "cell_type": "code",
   "execution_count": 51,
   "metadata": {},
   "outputs": [],
   "source": [
    "\n",
    "def graph_subway_station(subways):\n",
    "    # 地铁站关系图\n",
    "    subway_station = {}\n",
    "    for sub, vals in subways.items():\n",
    "        for i, v in enumerate(vals):\n",
    "            if v not in subway_station:\n",
    "                if i == 0:\n",
    "                    subway_station[v] = [vals[i + 1]]\n",
    "                elif i == (len(vals) - 1):\n",
    "                    subway_station[v] = [vals[i - 1]]\n",
    "                else:\n",
    "                    subway_station[v] = [vals[i - 1], vals[i + 1]]\n",
    "            else:\n",
    "                if i == 0:\n",
    "                    subway_station[v] = subway_station[v] + [vals[i + 1]]\n",
    "                elif i == (len(vals) - 1):\n",
    "                    subway_station[v] = subway_station[v] + [vals[i - 1]]\n",
    "                else:\n",
    "                    subway_station[v] = subway_station[v] + [vals[i - 1], vals[i + 1]]\n",
    "\n",
    "    return subway_station"
   ]
  },
  {
   "cell_type": "markdown",
   "metadata": {},
   "source": [
    "##### 根据建立好的地铁线路关系图筛选 优先路线"
   ]
  },
  {
   "cell_type": "code",
   "execution_count": 52,
   "metadata": {},
   "outputs": [],
   "source": [
    "def check_better_lines(start_to_stop, all_lines):\n",
    "    \"\"\"筛选最优路线\"\"\"\n",
    "    better_lines = []\n",
    "    all_lines = sorted(all_lines, key=lambda s: start_to_stop[0])\n",
    "    for ss in start_to_stop:\n",
    "        best_line = None\n",
    "        for line in all_lines:\n",
    "            if line[0] == ss[0] and line[-1] == ss[-1]:\n",
    "                if not best_line:\n",
    "                    best_line = line\n",
    "                elif len(line) < len(best_line):\n",
    "                    best_line = line\n",
    "                elif len(line) == len(best_line):\n",
    "                    better_lines.append(best_line)\n",
    "                    best_line = line\n",
    "        if best_line:\n",
    "            better_lines.append(best_line)\n",
    "    return better_lines"
   ]
  },
  {
   "cell_type": "markdown",
   "metadata": {},
   "source": [
    "##### 搜索并筛选最优换成线图(以每条地铁线为维度)"
   ]
  },
  {
   "cell_type": "code",
   "execution_count": 71,
   "metadata": {},
   "outputs": [],
   "source": [
    "def search_lines_graph(start_station_line, stop_station_line, subway_line):\n",
    "    \"\"\"搜索并筛选最优换成线图(以每条地铁线为维度)\"\"\"\n",
    "    start_to_stop, all_lines = [], []\n",
    "    for start_line in start_station_line:\n",
    "        for stop_line in stop_station_line:\n",
    "            start_to_stop.append([start_line, stop_line])\n",
    "            if start_line == stop_line:\n",
    "                return [[start_line, stop_line]]\n",
    "\n",
    "    print('可能开始和结束地铁线：{}'.format(start_to_stop), end='\\n\\n', sep='\\n')\n",
    "    for line in start_to_stop:\n",
    "        pathes = [[line[0]]]\n",
    "        seened = []\n",
    "        while pathes:\n",
    "            path = pathes.pop(0)\n",
    "            station = path[-1]\n",
    "            if station in seened and station == line[1]: continue  # 记录访问过的站，并且是终点站时不继续执行\n",
    "            for successor in subway_line[station]:\n",
    "                if successor in seened: continue\n",
    "                if successor not in start_station_line:  # 例如开始站为”三元桥“换乘站时出现 “机场线/10好像/13好像”这种不正确的组合方式\n",
    "                    new_path = path + [successor]\n",
    "                    pathes.append(new_path)\n",
    "                    if successor == line[1]:\n",
    "                        if new_path not in all_lines:\n",
    "                            all_lines.append(new_path)\n",
    "            seened.append(station)\n",
    "    better_lines = check_better_lines(start_to_stop, all_lines)\n",
    "    return better_lines\n"
   ]
  },
  {
   "cell_type": "markdown",
   "metadata": {},
   "source": [
    "##### 按照每一站进一步筛选最优路线"
   ]
  },
  {
   "cell_type": "code",
   "execution_count": 65,
   "metadata": {},
   "outputs": [],
   "source": [
    "def search_station_graph(start, stop, better_lines, subways):\n",
    "    \"\"\"按照每一站进一步筛选最优路线\"\"\"\n",
    "    best_lines = []\n",
    "    for line in better_lines:\n",
    "        subway = {key: subways[key] for key in line}\n",
    "        station_graph = graph_subway_station(subway)\n",
    "        pathes = [[start]]\n",
    "        seened = []\n",
    "        while pathes:\n",
    "            path = pathes.pop(0)\n",
    "            station = path[-1]\n",
    "            \n",
    "            if station in seened and station == stop: continue\n",
    "            for successor in station_graph[station]:\n",
    "                if station == stop:\n",
    "                    break\n",
    "                if successor in seened: continue\n",
    "                new_path = path + [successor]\n",
    "                pathes.append(new_path)\n",
    "                if successor == stop:\n",
    "                    best_lines.append({'/'.join(line): new_path})\n",
    "            if station != stop:  # 终点站访问过后不加入seened，防止查找线路减少\n",
    "                seened.append(station)\n",
    "    return best_lines"
   ]
  },
  {
   "cell_type": "markdown",
   "metadata": {},
   "source": [
    "##### 搜索"
   ]
  },
  {
   "cell_type": "code",
   "execution_count": 55,
   "metadata": {},
   "outputs": [],
   "source": [
    "def search(start, stop, subways, subway_line, subway_station, sortfunction=None):\n",
    "    \"\"\"搜索返回最优路线\"\"\"\n",
    "    start_station_line = []\n",
    "    stop_station_line = []\n",
    "    for subway_key, subway_values in subways.items():\n",
    "        if start in subway_values:\n",
    "            start_station_line.append(subway_key)\n",
    "        if stop in subway_values:\n",
    "            stop_station_line.append(subway_key)\n",
    "\n",
    "    better_lines = search_lines_graph(start_station_line, stop_station_line, subway_line)\n",
    "\n",
    "    best_lines = search_station_graph(start, stop, better_lines, subways)\n",
    "\n",
    "    return sortfunction(best_lines)  if sortfunction else best_lines"
   ]
  },
  {
   "cell_type": "markdown",
   "metadata": {},
   "source": [
    "##### 排序"
   ]
  },
  {
   "cell_type": "code",
   "execution_count": 56,
   "metadata": {},
   "outputs": [],
   "source": [
    "# def shortest_transfer_sort(best_lines):\n",
    "#     mid_dict = {key: value for x in best_lines for key, value in x.items()}\n",
    "#     mid_list = sorted(mid_dict.items(), key=lambda x: len(x[1]))\n",
    "#     best_lines = [{x[0]: x[1]} for x in mid_list]\n",
    "#     return best_lines"
   ]
  },
  {
   "cell_type": "code",
   "execution_count": 61,
   "metadata": {},
   "outputs": [],
   "source": [
    "def main(start, stop, sortfunction=None):\n",
    "    station, lines = deal_subway_data()\n",
    "    subways = subways_related(lines, station) # 每条线对应的地铁站\n",
    "    subway_line = graph_subway_lines(subways) # 每条地铁线的关系图\n",
    "    subway_station = graph_subway_station(subways) # 每一站的换乘关系图\n",
    "    best_lines = search(start, stop, subways, subway_line, subway_station, sortfunction)\n",
    "    return best_lines"
   ]
  },
  {
   "cell_type": "code",
   "execution_count": 75,
   "metadata": {},
   "outputs": [
    {
     "name": "stdout",
     "output_type": "stream",
     "text": [
      "可能开始和结束地铁线：[['10号线', '13号线'], ['10号线', '昌平线'], ['机场线', '13号线'], ['机场线', '昌平线']]\n",
      "\n",
      "--------------------------------------------------输出结果⬇️⬇️⬇️--------------------------------------------------\n",
      "\n",
      "{'10号线/13号线': ['三元桥', '太阳宫', '芍药居', '望京西', '北苑', '立水桥', '霍营', '回龙观', '龙泽', '西二旗']}\n",
      "\n",
      "\n",
      "--------------------------------------------------输出结果⬇️⬇️⬇️--------------------------------------------------\n",
      "\n",
      "{'10号线/13号线': ['三元桥', '太阳宫', '芍药居', '惠新西街南口', '安贞门', '北土城', '健德门', '牡丹园', '西土城', '知春路', '五道口', '上地', '西二旗']}\n",
      "\n",
      "\n"
     ]
    }
   ],
   "source": [
    "for i in main('三元桥', '西二旗'):\n",
    "    print('-'*50 +'输出结果⬇️⬇️⬇️' + '-'*50, end='\\n\\n')\n",
    "    print(i)\n",
    "    print('\\n')"
   ]
  },
  {
   "cell_type": "code",
   "execution_count": null,
   "metadata": {},
   "outputs": [],
   "source": []
  }
 ],
 "metadata": {
  "kernelspec": {
   "display_name": "Python 3",
   "language": "python",
   "name": "python3"
  },
  "language_info": {
   "codemirror_mode": {
    "name": "ipython",
    "version": 3
   },
   "file_extension": ".py",
   "mimetype": "text/x-python",
   "name": "python",
   "nbconvert_exporter": "python",
   "pygments_lexer": "ipython3",
   "version": "3.7.3"
  }
 },
 "nbformat": 4,
 "nbformat_minor": 2
}
