{
 "cells": [
  {
   "cell_type": "markdown",
   "metadata": {},
   "source": [
    "# Part 5-1: review machine learning¶\n"
   ]
  },
  {
   "cell_type": "markdown",
   "metadata": {},
   "source": [
    "1. *Why do we use Derivative / Gredient to fit a target function?*\n"
   ]
  },
  {
   "cell_type": "markdown",
   "metadata": {},
   "source": [
    "ans: "
   ]
  },
  {
   "cell_type": "markdown",
   "metadata": {},
   "source": [
    "2. *In the words 'Gredient Descent', what's the Gredient and what's the Descent?*"
   ]
  },
  {
   "cell_type": "markdown",
   "metadata": {},
   "source": [
    "ans: “Gredient”损失函数在某点切线的斜率，根据其值的正负判断函数的增减性，从而调整参数的变化方向。“Descent”给定一定的学习随着参数的变化使拟合函数得到一个最优解"
   ]
  },
  {
   "cell_type": "markdown",
   "metadata": {},
   "source": [
    "3. *What's the advantages of the 3rd gradient descent method compared to the previous methods?*"
   ]
  },
  {
   "cell_type": "markdown",
   "metadata": {},
   "source": [
    "ans: 第一种方式 随机产生k，b的值完全没有反向，最后loss的最小值完全靠随机；第二种方式 根据k，和b的变化定义四个方向，选择loss减小的方向变化k，b直至不能减小，随机获取其他三个方向中的一个；第三种梯度下降方式相比于前两种，第一是可以精准的控制loss值减小时k，b的变化方向，"
   ]
  },
  {
   "cell_type": "markdown",
   "metadata": {},
   "source": [
    "4. *Using the simple words to describe: What's the machine leanring.*"
   ]
  },
  {
   "cell_type": "markdown",
   "metadata": {},
   "source": [
    "ans: 数据和数学理论驱动的算法"
   ]
  },
  {
   "cell_type": "markdown",
   "metadata": {},
   "source": [
    "# Part 5: Answer following questions:\n"
   ]
  },
  {
   "cell_type": "markdown",
   "metadata": {},
   "source": [
    "\n",
    "1. *Why do we need dynamic programming? What's the difference of dynamic programming and previous talked search problme?*\n",
    "\n"
   ]
  },
  {
   "cell_type": "markdown",
   "metadata": {},
   "source": [
    "ans: 在常规的搜索中通常会出现许多重复的子问题，过多的子问题会打提高算法的时间复杂度"
   ]
  },
  {
   "cell_type": "markdown",
   "metadata": {},
   "source": [
    "2. *Why do we still need dynamic programming? Why not we train a machine learning to fit a function which could get the right answer based on inputs?*"
   ]
  },
  {
   "cell_type": "markdown",
   "metadata": {},
   "source": [
    "ans: 机器学习需要大量的数据以及算法的优化，有些问题利用动态规划可以很快速完美的解决。就例如上一节课的路径搜索如果用机器学习的方法我们可能需要考虑选择应用什么样的模型、选取大量的数据以及特征、还要进行调参等等最后的结果也可能是不尽如人意。但是用广度优先可以很好的解决这个问题，再利用动态规划优化即简单有能够拥有比较好的结果"
   ]
  },
  {
   "cell_type": "markdown",
   "metadata": {},
   "source": [
    "3. *Can you catch up at least 3 problems which could solved by Dynamic Programming?*\n"
   ]
  },
  {
   "cell_type": "markdown",
   "metadata": {},
   "source": [
    "ans: 最短路径"
   ]
  },
  {
   "cell_type": "markdown",
   "metadata": {},
   "source": [
    "4. *Can you catch up at least 3 problems wich could sloved by Edit Distance?*\n"
   ]
  },
  {
   "cell_type": "markdown",
   "metadata": {},
   "source": [
    "ans: 单词纠错、文本相似度、"
   ]
  },
  {
   "cell_type": "markdown",
   "metadata": {},
   "source": [
    "5. *Please summarize the three main features of Dynamic Programming, and make a concise explain for each feature.*\n"
   ]
  },
  {
   "cell_type": "markdown",
   "metadata": {},
   "source": [
    "ans: 1. 存在最优子问题，2.子问题重叠"
   ]
  },
  {
   "cell_type": "markdown",
   "metadata": {},
   "source": [
    "6. *What's the disadvantages of Dynamic Programming? (You may need search by yourself in Internet)*"
   ]
  },
  {
   "cell_type": "markdown",
   "metadata": {},
   "source": [
    " ans:"
   ]
  },
  {
   "cell_type": "markdown",
   "metadata": {},
   "source": [
    "# edit distance"
   ]
  },
  {
   "cell_type": "code",
   "execution_count": 29,
   "metadata": {},
   "outputs": [
    {
     "data": {
      "image/png": "[encoded data removed]",
      "text/plain": [
       "<Figure size 432x288 with 1 Axes>"
      ]
     },
     "metadata": {
      "needs_background": "light"
     },
     "output_type": "display_data"
    }
   ],
   "source": [
    "import random\n",
    "import matplotlib.pyplot as plt\n",
    "import math\n",
    "import heapq\n",
    "from collections import defaultdict\n",
    "\n",
    "random.seed(2)\n",
    "x = [random.random() * 200 - 100 for i in range(5)]\n",
    "y = [random.random() * 200 - 100 for i in range(5)]\n",
    "nodes = [i for i in range(5)]\n",
    "\n",
    "def two_point_distance(i, j):\n",
    "    return math.sqrt((x[i] - x[j]) ** 2 + (y[i] - y[j]) ** 2)\n",
    "\n",
    "def get_graph(graph={}):\n",
    "    for i in nodes:\n",
    "        graph[i] = {j: two_point_distance(i, j) for j in nodes if j != i}\n",
    "    return graph\n",
    "            \n",
    "plt.Figure()\n",
    "plt.scatter(x, y)\n",
    "plt.show()\n"
   ]
  },
  {
   "cell_type": "code",
   "execution_count": 30,
   "metadata": {},
   "outputs": [
    {
     "data": {
      "text/plain": [
       "{0: {1: 13.349208645327007,\n",
       "  2: 199.2095404882623,\n",
       "  3: 176.16247354601165,\n",
       "  4: 35.33452666107855},\n",
       " 1: {0: 13.349208645327007,\n",
       "  2: 192.36666042973755,\n",
       "  3: 173.06193860855296,\n",
       "  4: 25.75090958792055},\n",
       " 2: {0: 199.2095404882623,\n",
       "  1: 192.36666042973755,\n",
       "  3: 59.83025620388438,\n",
       "  4: 166.84845472242247},\n",
       " 3: {0: 176.16247354601165,\n",
       "  1: 173.06193860855296,\n",
       "  2: 59.83025620388438,\n",
       "  4: 150.12547456855694},\n",
       " 4: {0: 35.33452666107855,\n",
       "  1: 25.75090958792055,\n",
       "  2: 166.84845472242247,\n",
       "  3: 150.12547456855694}}"
      ]
     },
     "execution_count": 30,
     "metadata": {},
     "output_type": "execute_result"
    }
   ],
   "source": [
    "graph = get_graph()\n",
    "graph"
   ]
  },
  {
   "cell_type": "code",
   "execution_count": 35,
   "metadata": {},
   "outputs": [],
   "source": [
    "def edit_distance(graph, s):\n",
    "    closed = []\n",
    "    pathes = [[s]]\n",
    "    result = []\n",
    "    while pathes:\n",
    "        path = pathes.pop(0)\n",
    "        current = path[-1]\n",
    "        for node in graph[current].keys():\n",
    "            if node in path: continue\n",
    "            new_path = path + [node]\n",
    "            if len(new_path) == len(graph.keys()):\n",
    "                result.append(new_path)\n",
    "            pathes.append(new_path)\n",
    "    return result"
   ]
  },
  {
   "cell_type": "code",
   "execution_count": 36,
   "metadata": {},
   "outputs": [
    {
     "data": {
      "text/plain": [
       "[[0, 1, 2, 3, 4],\n",
       " [0, 1, 2, 4, 3],\n",
       " [0, 1, 3, 2, 4],\n",
       " [0, 1, 3, 4, 2],\n",
       " [0, 1, 4, 2, 3],\n",
       " [0, 1, 4, 3, 2],\n",
       " [0, 2, 1, 3, 4],\n",
       " [0, 2, 1, 4, 3],\n",
       " [0, 2, 3, 1, 4],\n",
       " [0, 2, 3, 4, 1],\n",
       " [0, 2, 4, 1, 3],\n",
       " [0, 2, 4, 3, 1],\n",
       " [0, 3, 1, 2, 4],\n",
       " [0, 3, 1, 4, 2],\n",
       " [0, 3, 2, 1, 4],\n",
       " [0, 3, 2, 4, 1],\n",
       " [0, 3, 4, 1, 2],\n",
       " [0, 3, 4, 2, 1],\n",
       " [0, 4, 1, 2, 3],\n",
       " [0, 4, 1, 3, 2],\n",
       " [0, 4, 2, 1, 3],\n",
       " [0, 4, 2, 3, 1],\n",
       " [0, 4, 3, 1, 2],\n",
       " [0, 4, 3, 2, 1]]"
      ]
     },
     "execution_count": 36,
     "metadata": {},
     "output_type": "execute_result"
    }
   ],
   "source": [
    "edit_distance(graph, 0)"
   ]
  },
  {
   "cell_type": "code",
   "execution_count": null,
   "metadata": {},
   "outputs": [],
   "source": []
  }
 ],
 "metadata": {
  "kernelspec": {
   "display_name": "Python 3",
   "language": "python",
   "name": "python3"
  },
  "language_info": {
   "codemirror_mode": {
    "name": "ipython",
    "version": 3
   },
   "file_extension": ".py",
   "mimetype": "text/x-python",
   "name": "python",
   "nbconvert_exporter": "python",
   "pygments_lexer": "ipython3",
   "version": "3.7.3"
  }
 },
 "nbformat": 4,
 "nbformat_minor": 2
}
