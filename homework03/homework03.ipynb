{
 "cells": [
  {
   "cell_type": "markdown",
   "metadata": {},
   "source": [
    "# Part 5-1: review machine learning¶\n"
   ]
  },
  {
   "cell_type": "markdown",
   "metadata": {},
   "source": [
    "1. *Why do we use Derivative / Gredient to fit a target function?*\n"
   ]
  },
  {
   "cell_type": "markdown",
   "metadata": {},
   "source": [
    "ans: "
   ]
  },
  {
   "cell_type": "markdown",
   "metadata": {},
   "source": [
    "2. *In the words 'Gredient Descent', what's the Gredient and what's the Descent?*"
   ]
  },
  {
   "cell_type": "markdown",
   "metadata": {},
   "source": [
    "ans: “Gredient”损失函数在某点切线的斜率，根据其值的正负判断函数的增减性，从而调整参数的变化方向。“Descent”给定一定的学习随着参数的变化使拟合函数得到一个最优解"
   ]
  },
  {
   "cell_type": "markdown",
   "metadata": {},
   "source": [
    "3. *What's the advantages of the 3rd gradient descent method compared to the previous methods?*"
   ]
  },
  {
   "cell_type": "markdown",
   "metadata": {},
   "source": [
    "ans: 第一种方式 随机产生k，b的值完全没有反向，最后loss的最小值完全靠随机；第二种方式 根据k，和b的变化定义四个方向，选择loss减小的方向变化k，b直至不能减小，随机获取其他三个方向中的一个；第三种梯度下降方式相比于前两种，第一是可以精准的控制loss值减小时k，b的变化方向，"
   ]
  },
  {
   "cell_type": "markdown",
   "metadata": {},
   "source": [
    "4. *Using the simple words to describe: What's the machine leanring.*"
   ]
  },
  {
   "cell_type": "markdown",
   "metadata": {},
   "source": [
    "ans: 数据和数学理论驱动的算法"
   ]
  },
  {
   "cell_type": "markdown",
   "metadata": {},
   "source": [
    "# Part 5: Answer following questions:\n"
   ]
  },
  {
   "cell_type": "markdown",
   "metadata": {},
   "source": [
    "\n",
    "1. *Why do we need dynamic programming? What's the difference of dynamic programming and previous talked search problme?*\n",
    "\n"
   ]
  },
  {
   "cell_type": "markdown",
   "metadata": {},
   "source": [
    "ans: 在常规的搜索中通常会出现许多重复的子问题，过多的子问题会打提高算法的时间复杂度"
   ]
  },
  {
   "cell_type": "markdown",
   "metadata": {},
   "source": [
    "2. *Why do we still need dynamic programming? Why not we train a machine learning to fit a function which could get the right answer based on inputs?*"
   ]
  },
  {
   "cell_type": "markdown",
   "metadata": {},
   "source": [
    "ans: 机器学习需要大量的数据以及算法的优化，有些问题利用动态规划可以很快速完美的解决。就例如上一节课的路径搜索如果用机器学习的方法我们可能需要考虑选择应用什么样的模型、选取大量的数据以及特征、还要进行调参等等最后的结果也可能是不尽如人意。但是用广度优先可以很好的解决这个问题，再利用动态规划优化即简单有能够拥有比较好的结果"
   ]
  },
  {
   "cell_type": "markdown",
   "metadata": {},
   "source": [
    "3. *Can you catch up at least 3 problems which could solved by Dynamic Programming?*\n"
   ]
  },
  {
   "cell_type": "markdown",
   "metadata": {},
   "source": [
    "ans: 最短路径"
   ]
  },
  {
   "cell_type": "markdown",
   "metadata": {},
   "source": [
    "4. *Can you catch up at least 3 problems wich could sloved by Edit Distance?*\n"
   ]
  },
  {
   "cell_type": "markdown",
   "metadata": {},
   "source": [
    "ans: 单词纠错、文本相似度、"
   ]
  },
  {
   "cell_type": "markdown",
   "metadata": {},
   "source": [
    "5. *Please summarize the three main features of Dynamic Programming, and make a concise explain for each feature.*\n"
   ]
  },
  {
   "cell_type": "markdown",
   "metadata": {},
   "source": [
    "ans: 1. 存在最优子问题，2.子问题重叠"
   ]
  },
  {
   "cell_type": "markdown",
   "metadata": {},
   "source": [
    "6. *What's the disadvantages of Dynamic Programming? (You may need search by yourself in Internet)*"
   ]
  },
  {
   "cell_type": "markdown",
   "metadata": {},
   "source": [
    " ans:"
   ]
  }
 ],
 "metadata": {
  "kernelspec": {
   "display_name": "Python 3",
   "language": "python",
   "name": "python3"
  },
  "language_info": {
   "codemirror_mode": {
    "name": "ipython",
    "version": 3
   },
   "file_extension": ".py",
   "mimetype": "text/x-python",
   "name": "python",
   "nbconvert_exporter": "python",
   "pygments_lexer": "ipython3",
   "version": "3.7.3"
  }
 },
 "nbformat": 4,
 "nbformat_minor": 2
}
