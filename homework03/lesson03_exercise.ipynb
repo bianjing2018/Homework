{
 "cells": [
  {
   "cell_type": "code",
   "execution_count": 2,
   "metadata": {},
   "outputs": [],
   "source": [
    "from sklearn.datasets import load_boston\n",
    "import matplotlib.pyplot as plt\n",
    "import random"
   ]
  },
  {
   "cell_type": "code",
   "execution_count": 36,
   "metadata": {},
   "outputs": [],
   "source": [
    "x = load_boston().data[:, 5]\n",
    "y = load_boston().target"
   ]
  },
  {
   "cell_type": "code",
   "execution_count": 37,
   "metadata": {},
   "outputs": [
    {
     "data": {
      "text/plain": [
       "<matplotlib.collections.PathCollection at 0x1208088d0>"
      ]
     },
     "execution_count": 37,
     "metadata": {},
     "output_type": "execute_result"
    },
    {
     "data": {
      "image/png": "[encoded data removed]",
      "text/plain": [
       "<Figure size 432x288 with 1 Axes>"
      ]
     },
     "metadata": {
      "needs_background": "light"
     },
     "output_type": "display_data"
    }
   ],
   "source": [
    "plt.Figure()\n",
    "plt.scatter(x, y)"
   ]
  },
  {
   "cell_type": "code",
   "execution_count": 5,
   "metadata": {},
   "outputs": [],
   "source": [
    "def prediction_price(k, b, x):\n",
    "    return k * x + b"
   ]
  },
  {
   "cell_type": "code",
   "execution_count": 6,
   "metadata": {},
   "outputs": [],
   "source": [
    "def loss(y, y_hat):\n",
    "    loss_value = 0\n",
    "    for i in range(len(y)):\n",
    "        loss_value += (y[i] - y_hat[i])**2\n",
    "    return loss_value / len(y)"
   ]
  },
  {
   "cell_type": "code",
   "execution_count": 7,
   "metadata": {},
   "outputs": [],
   "source": [
    "def abs_loss(y, y_hat):\n",
    "    loss_value = 0\n",
    "    for i in range(len(y)):\n",
    "        loss_value += abs((y[i] - y_hat[i]))\n",
    "    return loss_value / len(y)"
   ]
  },
  {
   "cell_type": "code",
   "execution_count": 8,
   "metadata": {},
   "outputs": [],
   "source": [
    "def loss_to_k_guidance(x, y, y_hat):\n",
    "    k_guidance = 0\n",
    "    n = len(x)\n",
    "    for x_i, y_i, y_hat_i in zip(list(x), list(y), list(y_hat)):\n",
    "        k_guidance += (y_i - y_hat_i) * x_i\n",
    "    return  -2 / n * k_guidance\n"
   ]
  },
  {
   "cell_type": "code",
   "execution_count": 9,
   "metadata": {},
   "outputs": [],
   "source": [
    "def loss_to_b_guidance(y, y_hat):\n",
    "    g_guidance = 0\n",
    "    n = len(y)\n",
    "    for y_i, y_hat_i in zip(list(y), list(y_hat)):\n",
    "        g_guidance += (y_i - y_hat_i)\n",
    "    return -2 / n * g_guidance\n"
   ]
  },
  {
   "cell_type": "code",
   "execution_count": 10,
   "metadata": {},
   "outputs": [],
   "source": [
    "def partial_k(x, y, y_hat):\n",
    "    n = len(y)\n",
    "\n",
    "    gradient = 0\n",
    "    \n",
    "    for x_i, y_i, y_hat_i in zip(list(x), list(y), list(y_hat)):\n",
    "        gradient += (y_i - y_hat_i) * x_i\n",
    "    \n",
    "    return -2 / n * gradient\n",
    "\n",
    "\n",
    "def partial_b(y, y_hat):\n",
    "    n = len(y)\n",
    "\n",
    "    gradient = 0\n",
    "    \n",
    "    for y_i, y_hat_i in zip(list(y), list(y_hat)):\n",
    "        bgradient += (y_i - y_hat_i)\n",
    "    \n",
    "    return -2 / n * gradient"
   ]
  },
  {
   "cell_type": "code",
   "execution_count": 12,
   "metadata": {},
   "outputs": [],
   "source": [
    "def gradient_descent(x, y, n=1000):\n",
    "    current_k = random.random() * 200 - 100\n",
    "    current_b = random.random() * 200 - 100 \n",
    "    learn_rate = 0.001\n",
    "    smaller_loss = float('inf')\n",
    "    for i in range(n):\n",
    "        y_hat = [prediction_price(current_k, current_b, x_i) for x_i in x]\n",
    "        loss_value = loss(y, y_hat)\n",
    "        if loss_value < smaller_loss: # performance became better\n",
    "            smaller_loss = loss_value\n",
    "            if i % 100 == 0:\n",
    "                print('运行次数：{}, current_k: {}, current_b: {}, loss_vaule: {}'.format(i, current_k, current_b, smaller_loss))\n",
    "        k_change = loss_to_k_guidance(x, y, y_hat)\n",
    "        b_change = loss_to_b_guidance(y, y_hat)\n",
    "        current_k = current_k + (-1 * k_change) * learn_rate\n",
    "        current_b = current_b + (-1 * b_change) * learn_rate "
   ]
  },
  {
   "cell_type": "code",
   "execution_count": 13,
   "metadata": {},
   "outputs": [
    {
     "name": "stdout",
     "output_type": "stream",
     "text": [
      "运行次数：0, current_k: -26.42462593035941, current_b: -97.91529818761677, loss_vaule: 82757.57108673087\n",
      "运行次数：100, current_k: 17.91806831901786, current_b: -90.80591119270386, loss_vaule: 82.42659065338266\n"
     ]
    }
   ],
   "source": [
    "gradient_descent(x, y, 200)"
   ]
  },
  {
   "cell_type": "code",
   "execution_count": 14,
   "metadata": {},
   "outputs": [],
   "source": [
    "y_hat = prediction_price(9.127657565435554, -34.76944885294249, x)"
   ]
  },
  {
   "cell_type": "code",
   "execution_count": 15,
   "metadata": {},
   "outputs": [
    {
     "data": {
      "text/plain": [
       "<matplotlib.collections.PathCollection at 0x11fed5128>"
      ]
     },
     "execution_count": 15,
     "metadata": {},
     "output_type": "execute_result"
    },
    {
     "data": {
      "image/png": "[encoded data removed]",
      "text/plain": [
       "<Figure size 432x288 with 1 Axes>"
      ]
     },
     "metadata": {
      "needs_background": "light"
     },
     "output_type": "display_data"
    }
   ],
   "source": [
    "plt.Figure()\n",
    "plt.scatter(x, y)\n",
    "plt.scatter(x, y_hat)"
   ]
  },
  {
   "cell_type": "markdown",
   "metadata": {},
   "source": [
    "# 观察绝对值损失产生的k，和b"
   ]
  },
  {
   "cell_type": "code",
   "execution_count": 81,
   "metadata": {},
   "outputs": [],
   "source": [
    "k_and_b = []\n",
    "def abs_get_k_and_b(times):\n",
    "    current_k = random.random() * 200 - 100\n",
    "    current_b = random.random() * 200 - 100\n",
    "    direction = {0: (+1, +1), \n",
    "                 1: (+1, -1), \n",
    "                 2: (-1, +1), \n",
    "                 3: (-1, -1)}\n",
    "    learn_rate = 10\n",
    "    letter_loss = 0\n",
    "    for asd in range(times):\n",
    "        y_hat = [prediction_price(current_k, current_b, i) for i in x]\n",
    "        loss_value = abs_loss(y, y_hat)\n",
    "        if not letter_loss or letter_loss > loss_value :\n",
    "            letter_loss = loss_value\n",
    "            if not k_and_b:\n",
    "                k_and_b.append(current_k)\n",
    "                k_and_b.append(current_b)\n",
    "            else:\n",
    "                k_and_b[0] = current_k\n",
    "                k_and_b[1] = current_b\n",
    "            print(current_k, current_b,letter_loss)\n",
    "            if asd == 0:\n",
    "                direction_key = random.choice([0, 1, 2, 3])\n",
    "                current_k += direction[direction_key][0] * learn_rate\n",
    "                current_b += direction[direction_key][1] * learn_rate\n",
    "        else:\n",
    "            choice_key = [0, 1, 2, 3]\n",
    "            choice_key.pop(direction_key)\n",
    "            direction_key = random.choice(choice_key)\n",
    "            current_k += direction[direction_key][0] * learn_rate\n",
    "            current_b += direction[direction_key][1] * learn_rate\n",
    "        \n",
    "    "
   ]
  },
  {
   "cell_type": "code",
   "execution_count": 88,
   "metadata": {},
   "outputs": [
    {
     "name": "stdout",
     "output_type": "stream",
     "text": [
      "89.44308756997427 -83.14899702614302 456.4353005029229\n",
      "79.44308756997427 -73.14899702614302 403.5889566294051\n",
      "69.44308756997427 -83.14899702614302 330.742612755887\n",
      "69.44308756997427 -123.14899702614304 290.7426127558873\n",
      "79.44308756997427 -253.14899702614304 223.58895662940492\n",
      "69.44308756997427 -263.14899702614304 150.9851128030527\n",
      "59.44308756997427 -273.14899702614304 79.16220854520184\n",
      "59.44308756997427 -293.14899702614304 60.359469111562625\n",
      "109.4430875699743 -663.148997026143 51.72425361128526\n",
      "99.4430875699743 -613.148997026143 48.2901307698951\n",
      "99.4430875699743 -593.148997026143 46.69094206729092\n",
      "89.4430875699743 -543.148997026143 41.973538799729816\n",
      "79.4430875699743 -493.148997026143 39.97829415593693\n",
      "79.4430875699743 -473.148997026143 36.44502435349215\n",
      "39.443087569974296 -253.14899702614298 30.2589035915473\n",
      "49.443087569974296 -283.148997026143 21.514354127157965\n",
      "39.443087569974296 -233.14899702614298 17.746946009100547\n"
     ]
    }
   ],
   "source": [
    "abs_get_k_and_b(10000)"
   ]
  },
  {
   "cell_type": "code",
   "execution_count": 89,
   "metadata": {},
   "outputs": [],
   "source": [
    "y_hat = [prediction_price(k_and_b[0], k_and_b[1], i) for i in x]"
   ]
  },
  {
   "cell_type": "code",
   "execution_count": 90,
   "metadata": {},
   "outputs": [
    {
     "data": {
      "text/plain": [
       "<matplotlib.collections.PathCollection at 0x1212199b0>"
      ]
     },
     "execution_count": 90,
     "metadata": {},
     "output_type": "execute_result"
    },
    {
     "data": {
      "image/png": "[encoded data removed]",
      "text/plain": [
       "<Figure size 432x288 with 1 Axes>"
      ]
     },
     "metadata": {
      "needs_background": "light"
     },
     "output_type": "display_data"
    }
   ],
   "source": [
    "plt.Figure()\n",
    "plt.scatter(x, y)\n",
    "plt.scatter(x, y_hat)"
   ]
  },
  {
   "cell_type": "code",
   "execution_count": 91,
   "metadata": {},
   "outputs": [],
   "source": [
    "def abs_derivative_k(y, k):\n",
    "    return abs(k)\n",
    "\n",
    "def abs_derivative_b(y, b):\n",
    "    return abs(b)"
   ]
  },
  {
   "cell_type": "code",
   "execution_count": 101,
   "metadata": {},
   "outputs": [],
   "source": [
    "def gradient_descent_abs(times):\n",
    "    current_k = random.random() * 200 - 100\n",
    "    current_b = random.random() * 200 - 100\n",
    "    learn_rate = 10\n",
    "    letter_loss = 0\n",
    "    for asd in range(times):\n",
    "        y_hat = [prediction_price(current_k, current_b, i) for i in x]\n",
    "        loss_value = abs_loss(y, y_hat)\n",
    "        if not letter_loss or letter_loss > loss_value :\n",
    "            letter_loss = loss_value\n",
    "            if not k_and_b:\n",
    "                k_and_b.append(current_k)\n",
    "                k_and_b.append(current_b)\n",
    "            else:\n",
    "                k_and_b[0] = current_k\n",
    "                k_and_b[1] = current_b\n",
    "            print(current_k, current_b,letter_loss, asd)\n",
    "            if asd == 0:\n",
    "                current_k += -1 * abs_derivative_k(y, current_k) * learn_rate\n",
    "                current_b += -1 * abs_derivative_b(y, current_b) * learn_rate\n",
    "        else:\n",
    "            current_k += -1 * abs_derivative_k(y, current_k) * learn_rate\n",
    "            current_b += -1 * abs_derivative_b(y, current_b) * learn_rate\n"
   ]
  },
  {
   "cell_type": "code",
   "execution_count": 102,
   "metadata": {},
   "outputs": [
    {
     "name": "stdout",
     "output_type": "stream",
     "text": [
      "16.460181881378205 4.177785901654801 85.09120465131834 0\n"
     ]
    },
    {
     "name": "stderr",
     "output_type": "stream",
     "text": [
      "/usr/local/lib/python3.7/site-packages/ipykernel_launcher.py:4: RuntimeWarning: overflow encountered in double_scalars\n",
      "  after removing the cwd from sys.path.\n"
     ]
    }
   ],
   "source": [
    "gradient_descent_abs(1000)"
   ]
  },
  {
   "cell_type": "markdown",
   "metadata": {},
   "source": [
    "# Dynamic Programming"
   ]
  },
  {
   "cell_type": "markdown",
   "metadata": {},
   "source": [
    "#### *给定一段钢筋度，根据不同长度的价格得出其最优价格，并得出其切分方式*"
   ]
  },
  {
   "cell_type": "markdown",
   "metadata": {},
   "source": [
    "1.列出所有的切分组合方式"
   ]
  },
  {
   "cell_type": "code",
   "execution_count": 104,
   "metadata": {},
   "outputs": [],
   "source": [
    "original_price = [1, 5, 8, 9, 10, 17, 17, 20, 24, 30]"
   ]
  },
  {
   "cell_type": "code",
   "execution_count": 105,
   "metadata": {},
   "outputs": [],
   "source": [
    "from collections import defaultdict"
   ]
  },
  {
   "cell_type": "code",
   "execution_count": 106,
   "metadata": {},
   "outputs": [],
   "source": [
    "price = defaultdict(int)\n",
    "for i, v in enumerate(original_price):\n",
    "    price[i+1] = v"
   ]
  },
  {
   "cell_type": "code",
   "execution_count": 107,
   "metadata": {},
   "outputs": [
    {
     "data": {
      "text/plain": [
       "defaultdict(int,\n",
       "            {1: 1,\n",
       "             2: 5,\n",
       "             3: 8,\n",
       "             4: 9,\n",
       "             5: 10,\n",
       "             6: 17,\n",
       "             7: 17,\n",
       "             8: 20,\n",
       "             9: 24,\n",
       "             10: 30})"
      ]
     },
     "execution_count": 107,
     "metadata": {},
     "output_type": "execute_result"
    }
   ],
   "source": [
    "price"
   ]
  },
  {
   "cell_type": "code",
   "execution_count": 127,
   "metadata": {},
   "outputs": [],
   "source": [
    "def all_split_type(n):\n",
    "    splitTypeAndPrice = [(price[n], 0)]\n",
    "    for i in range(1, n):\n",
    "        splitTypeAndPrice.append((price[i] + price[n-i], i))\n",
    "    return sorted(splitTypeAndPrice, key=lambda x: x[0], reverse=True)\n",
    "        "
   ]
  },
  {
   "cell_type": "code",
   "execution_count": 129,
   "metadata": {},
   "outputs": [
    {
     "name": "stdout",
     "output_type": "stream",
     "text": [
      "[(30, 10), (30, 20), (24, 9), (24, 21), (20, 8), (20, 22), (17, 6), (17, 7), (17, 23), (17, 24), (10, 5), (10, 25), (9, 4), (9, 26), (8, 3), (8, 27), (5, 2), (5, 28), (1, 1), (1, 29), (0, 0), (0, 11), (0, 12), (0, 13), (0, 14), (0, 15), (0, 16), (0, 17), (0, 18), (0, 19)]\n"
     ]
    }
   ],
   "source": [
    "print(all_split_type(30))"
   ]
  },
  {
   "cell_type": "code",
   "execution_count": null,
   "metadata": {},
   "outputs": [],
   "source": []
  },
  {
   "cell_type": "code",
   "execution_count": null,
   "metadata": {},
   "outputs": [],
   "source": []
  },
  {
   "cell_type": "code",
   "execution_count": null,
   "metadata": {},
   "outputs": [],
   "source": []
  },
  {
   "cell_type": "markdown",
   "metadata": {},
   "source": []
  },
  {
   "cell_type": "code",
   "execution_count": 336,
   "metadata": {},
   "outputs": [],
   "source": [
    "from functools import wraps\n",
    "msg_times = defaultdict(int)\n",
    "def get_times(func):\n",
    "    @wraps(func)\n",
    "    def warp(n):\n",
    "        result = func(n)\n",
    "        msg_times[(func.__name__, n)] += 1\n",
    "        return result\n",
    "    return warp"
   ]
  },
  {
   "cell_type": "code",
   "execution_count": 137,
   "metadata": {},
   "outputs": [],
   "source": [
    "solution = {}  # n: (切分方式)\n",
    "# @get_times\n",
    "# @memo\n",
    "def r(n):\n",
    "    \n",
    "    a = [(price[n], 0)]\n",
    "    for i in range(1, n):\n",
    "       a += [(r(i) + r(n-i), i)]\n",
    "    \n",
    "    max_price, max_split = max(a, key=lambda x: x[0])\n",
    "\n",
    "    solution[n] = (n - max_split, max_split)\n",
    "    print(a)\n",
    "    return max_price"
   ]
  },
  {
   "cell_type": "code",
   "execution_count": 139,
   "metadata": {},
   "outputs": [
    {
     "name": "stdout",
     "output_type": "stream",
     "text": [
      "[(1, 0)]\n",
      "[(1, 0)]\n",
      "[(1, 0)]\n",
      "[(5, 0), (2, 1)]\n",
      "[(1, 0)]\n",
      "[(1, 0)]\n",
      "[(5, 0), (2, 1)]\n",
      "[(1, 0)]\n",
      "[(8, 0), (6, 1), (6, 2)]\n"
     ]
    },
    {
     "data": {
      "text/plain": [
       "8"
      ]
     },
     "execution_count": 139,
     "metadata": {},
     "output_type": "execute_result"
    }
   ],
   "source": [
    "r(3)"
   ]
  },
  {
   "cell_type": "code",
   "execution_count": 342,
   "metadata": {},
   "outputs": [
    {
     "data": {
      "text/plain": [
       "defaultdict(int,\n",
       "            {('r', 1): 58,\n",
       "             ('r', 2): 56,\n",
       "             ('r', 3): 54,\n",
       "             ('r', 4): 52,\n",
       "             ('r', 5): 50,\n",
       "             ('r', 6): 48,\n",
       "             ('r', 7): 46,\n",
       "             ('r', 8): 44,\n",
       "             ('r', 9): 42,\n",
       "             ('r', 10): 40,\n",
       "             ('r', 11): 38,\n",
       "             ('r', 12): 36,\n",
       "             ('r', 13): 34,\n",
       "             ('r', 14): 32,\n",
       "             ('r', 15): 30,\n",
       "             ('r', 16): 28,\n",
       "             ('r', 17): 26,\n",
       "             ('r', 18): 24,\n",
       "             ('r', 19): 22,\n",
       "             ('r', 20): 20,\n",
       "             ('r', 21): 18,\n",
       "             ('r', 22): 16,\n",
       "             ('r', 23): 14,\n",
       "             ('r', 24): 12,\n",
       "             ('r', 25): 10,\n",
       "             ('r', 26): 8,\n",
       "             ('r', 27): 6,\n",
       "             ('r', 28): 4,\n",
       "             ('r', 29): 2,\n",
       "             ('r', 30): 1})"
      ]
     },
     "execution_count": 342,
     "metadata": {},
     "output_type": "execute_result"
    }
   ],
   "source": [
    "msg_times"
   ]
  },
  {
   "cell_type": "code",
   "execution_count": 343,
   "metadata": {},
   "outputs": [
    {
     "data": {
      "text/plain": [
       "{1: (1, 0),\n",
       " 2: (2, 0),\n",
       " 3: (3, 0),\n",
       " 4: (2, 2),\n",
       " 5: (3, 2),\n",
       " 6: (6, 0),\n",
       " 7: (6, 1),\n",
       " 8: (6, 2),\n",
       " 9: (6, 3),\n",
       " 10: (10, 0),\n",
       " 11: (10, 1),\n",
       " 12: (10, 2),\n",
       " 13: (10, 3),\n",
       " 14: (12, 2),\n",
       " 15: (13, 2),\n",
       " 16: (10, 6),\n",
       " 17: (16, 1),\n",
       " 18: (16, 2),\n",
       " 19: (16, 3),\n",
       " 20: (10, 10),\n",
       " 21: (20, 1),\n",
       " 22: (20, 2),\n",
       " 23: (20, 3),\n",
       " 24: (22, 2),\n",
       " 25: (23, 2),\n",
       " 26: (20, 6),\n",
       " 27: (26, 1),\n",
       " 28: (26, 2),\n",
       " 29: (26, 3),\n",
       " 30: (20, 10)}"
      ]
     },
     "execution_count": 343,
     "metadata": {},
     "output_type": "execute_result"
    }
   ],
   "source": [
    "solution"
   ]
  },
  {
   "cell_type": "code",
   "execution_count": 339,
   "metadata": {},
   "outputs": [],
   "source": [
    "def parse_solution(n):\n",
    "    left_split, right_split = solution[n]\n",
    "    if right_split == 0:\n",
    "        return [left_split]\n",
    "    else:\n",
    "        a = parse_solution(left_split) # [10]\n",
    "        b = parse_solution(right_split)\n",
    "        return a + b\n",
    "    \n",
    "    \n",
    "    #  parse_solution(20)\n",
    "        #  10\n",
    "            # [10]"
   ]
  },
  {
   "cell_type": "code",
   "execution_count": 344,
   "metadata": {},
   "outputs": [
    {
     "data": {
      "text/plain": [
       "[10, 10, 10]"
      ]
     },
     "execution_count": 344,
     "metadata": {},
     "output_type": "execute_result"
    }
   ],
   "source": [
    "parse_solution(30)"
   ]
  },
  {
   "cell_type": "code",
   "execution_count": 340,
   "metadata": {},
   "outputs": [],
   "source": [
    "already_computed = {}\n",
    "def memo(func):\n",
    "    @wraps(func)\n",
    "    def wrap(n):\n",
    "        if n not in already_computed:\n",
    "            result = func(n)\n",
    "            already_computed[n] = result\n",
    "            return result\n",
    "        else:\n",
    "            return already_computed[n]\n",
    "    return wrap\n",
    "        "
   ]
  },
  {
   "cell_type": "code",
   "execution_count": null,
   "metadata": {},
   "outputs": [],
   "source": []
  }
 ],
 "metadata": {
  "kernelspec": {
   "display_name": "Python 3",
   "language": "python",
   "name": "python3"
  },
  "language_info": {
   "codemirror_mode": {
    "name": "ipython",
    "version": 3
   },
   "file_extension": ".py",
   "mimetype": "text/x-python",
   "name": "python",
   "nbconvert_exporter": "python",
   "pygments_lexer": "ipython3",
   "version": "3.7.3"
  }
 },
 "nbformat": 4,
 "nbformat_minor": 2
}
