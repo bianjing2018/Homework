{
 "cells": [
  {
   "cell_type": "code",
   "execution_count": 31,
   "metadata": {},
   "outputs": [],
   "source": [
    "from sklearn.datasets import load_boston\n",
    "import matplotlib.pyplot as plt\n",
    "import random"
   ]
  },
  {
   "cell_type": "code",
   "execution_count": 32,
   "metadata": {},
   "outputs": [],
   "source": [
    "x = load_boston().data[:, 5]\n",
    "y = load_boston().target"
   ]
  },
  {
   "cell_type": "code",
   "execution_count": 33,
   "metadata": {},
   "outputs": [
    {
     "data": {
      "text/plain": [
       "<matplotlib.collections.PathCollection at 0x12543a780>"
      ]
     },
     "execution_count": 33,
     "metadata": {},
     "output_type": "execute_result"
    },
    {
     "data": {
      "image/png": "[encoded data removed]",
      "text/plain": [
       "<Figure size 432x288 with 1 Axes>"
      ]
     },
     "metadata": {
      "needs_background": "light"
     },
     "output_type": "display_data"
    }
   ],
   "source": [
    "plt.Figure()\n",
    "plt.scatter(x, y)"
   ]
  },
  {
   "cell_type": "code",
   "execution_count": 92,
   "metadata": {},
   "outputs": [],
   "source": [
    "def prediction_price(k, b, x):\n",
    "    return k * x + b"
   ]
  },
  {
   "cell_type": "code",
   "execution_count": 46,
   "metadata": {},
   "outputs": [],
   "source": [
    "def loss(y, y_hat):\n",
    "    loss_value = 0\n",
    "    for i in range(len(y)):\n",
    "        loss_value += (y[i] - y_hat[i])**2\n",
    "    return loss_value / len(y)"
   ]
  },
  {
   "cell_type": "code",
   "execution_count": 117,
   "metadata": {},
   "outputs": [],
   "source": [
    "def loss_to_k_guidance(x, y, y_hat):\n",
    "    k_guidance = 0\n",
    "    n = len(x)\n",
    "    for x_i, y_i, y_hat_i in zip(list(x), list(y), list(y_hat)):\n",
    "        k_guidance += (y_i - y_hat_i) * x_i\n",
    "    return  -2 / n * k_guidance\n"
   ]
  },
  {
   "cell_type": "code",
   "execution_count": 123,
   "metadata": {},
   "outputs": [],
   "source": [
    "def loss_to_b_guidance(y, y_hat):\n",
    "    g_guidance = 0\n",
    "    n = len(y)\n",
    "    for y_i, y_hat_i in zip(list(y), list(y_hat)):\n",
    "        g_guidance += (y_i - y_hat_i)\n",
    "    return -2 / n * g_guidance\n"
   ]
  },
  {
   "cell_type": "code",
   "execution_count": 120,
   "metadata": {},
   "outputs": [],
   "source": [
    "def partial_k(x, y, y_hat):\n",
    "    n = len(y)\n",
    "\n",
    "    gradient = 0\n",
    "    \n",
    "    for x_i, y_i, y_hat_i in zip(list(x), list(y), list(y_hat)):\n",
    "        gradient += (y_i - y_hat_i) * x_i\n",
    "    \n",
    "    return -2 / n * gradient\n",
    "\n",
    "\n",
    "def partial_b(y, y_hat):\n",
    "    n = len(y)\n",
    "\n",
    "    gradient = 0\n",
    "    \n",
    "    for y_i, y_hat_i in zip(list(y), list(y_hat)):\n",
    "        gradient += (y_i - y_hat_i)\n",
    "    \n",
    "    return -2 / n * gradient"
   ]
  },
  {
   "cell_type": "code",
   "execution_count": 128,
   "metadata": {},
   "outputs": [],
   "source": [
    "def gradient_descent(x, y, n=1000):\n",
    "    current_k = random.random() * 200 - 100\n",
    "    current_b = random.random() * 200 - 100 \n",
    "    learn_rate = 0.001\n",
    "    smaller_loss = float('inf')\n",
    "    for i in range(n):\n",
    "        y_hat = [prediction_price(current_k, current_b, x_i) for x_i in x]\n",
    "        loss_value = loss(y, y_hat)\n",
    "        if loss_value < smaller_loss: # performance became better\n",
    "            smaller_loss = loss_value\n",
    "            if i % 100 == 0:\n",
    "                print('运行次数：{}, current_k: {}, current_b: {}, loss_vaule: {}'.format(i, current_k, current_b, smaller_loss))\n",
    "        k_change = loss_to_k_guidance(x, y, y_hat)\n",
    "        b_change = loss_to_b_guidance(y, y_hat)\n",
    "        current_k = current_k + (-1 * k_change) * learn_rate\n",
    "        current_b = current_b + (-1 * b_change) * learn_rate   \n",
    "    "
   ]
  },
  {
   "cell_type": "code",
   "execution_count": 129,
   "metadata": {},
   "outputs": [
    {
     "name": "stdout",
     "output_type": "stream",
     "text": [
      "运行次数：0, current_k: 59.644056305153356, current_b: -26.828262481659706, loss_vaule: 107239.4271961681\n",
      "运行次数：100, current_k: 9.127657565435554, current_b: -34.76944885294249, loss_vaule: 43.60468463208757\n",
      "运行次数：200, current_k: 9.117850720337467, current_b: -34.77074352050249, loss_vaule: 43.600675282277415\n",
      "运行次数：300, current_k: 9.117811026245798, current_b: -34.77050333571167, loss_vaule: 43.600674689527374\n",
      "运行次数：400, current_k: 9.117773311728905, current_b: -34.77026343160037, loss_vaule: 43.60067409977047\n",
      "运行次数：500, current_k: 9.11773568816148, current_b: -34.770024103648474, loss_vaule: 43.60067351284323\n",
      "运行次数：600, current_k: 9.117698154960747, current_b: -34.76978535052935, loss_vaule: 43.60067292873207\n",
      "运行次数：700, current_k: 9.11766071190961, current_b: -34.769547170862396, loss_vaule: 43.60067234742346\n",
      "运行次数：800, current_k: 9.117623358791521, current_b: -34.76930956327021, loss_vaule: 43.60067176890386\n",
      "运行次数：900, current_k: 9.117586095390491, current_b: -34.76907252637883, loss_vaule: 43.60067119316002\n",
      "运行次数：1000, current_k: 9.117548921491025, current_b: -34.76883605881745, loss_vaule: 43.600670620178555\n",
      "运行次数：1100, current_k: 9.117511836878153, current_b: -34.76860015921863, loss_vaule: 43.60067004994624\n",
      "运行次数：1200, current_k: 9.117474841337415, current_b: -34.76836482621817, loss_vaule: 43.60066948244989\n",
      "运行次数：1300, current_k: 9.117437934654887, current_b: -34.76813005845525, loss_vaule: 43.60066891767641\n",
      "运行次数：1400, current_k: 9.117401116617126, current_b: -34.76789585457217, loss_vaule: 43.60066835561259\n",
      "运行次数：1500, current_k: 9.117364387011229, current_b: -34.76766221321461, loss_vaule: 43.600667796245574\n",
      "运行次数：1600, current_k: 9.117327745624795, current_b: -34.767429133031456, loss_vaule: 43.600667239562384\n",
      "运行次数：1700, current_k: 9.11729119224593, current_b: -34.76719661267482, loss_vaule: 43.60066668555008\n",
      "运行次数：1800, current_k: 9.11725472666325, current_b: -34.76696465080011, loss_vaule: 43.600666134196\n",
      "运行次数：1900, current_k: 9.117218348665881, current_b: -34.76673324606592, loss_vaule: 43.60066558548717\n",
      "运行次数：2000, current_k: 9.117182058043467, current_b: -34.76650239713408, loss_vaule: 43.600665039411105\n",
      "运行次数：2100, current_k: 9.117145854586129, current_b: -34.766272102669596, loss_vaule: 43.600664495955044\n",
      "运行次数：2200, current_k: 9.117109738084524, current_b: -34.76604236134079, loss_vaule: 43.60066395510648\n",
      "运行次数：2300, current_k: 9.117073708329778, current_b: -34.765813171819, loss_vaule: 43.60066341685291\n",
      "运行次数：2400, current_k: 9.117037765113553, current_b: -34.765584532778924, loss_vaule: 43.600662881181854\n",
      "运行次数：2500, current_k: 9.117001908227987, current_b: -34.76535644289838, loss_vaule: 43.60066234808091\n",
      "运行次数：2600, current_k: 9.116966137465726, current_b: -34.76512890085835, loss_vaule: 43.600661817537755\n",
      "运行次数：2700, current_k: 9.11693045261992, current_b: -34.76490190534302, loss_vaule: 43.60066128954011\n",
      "运行次数：2800, current_k: 9.116894853484206, current_b: -34.7646754550397, loss_vaule: 43.60066076407584\n",
      "运行次数：2900, current_k: 9.116859339852713, current_b: -34.76444954863882, loss_vaule: 43.60066024113264\n",
      "运行次数：3000, current_k: 9.11682391152008, current_b: -34.76422418483408, loss_vaule: 43.60065972069853\n",
      "运行次数：3100, current_k: 9.116788568281434, current_b: -34.76399936232218, loss_vaule: 43.600659202761435\n",
      "运行次数：3200, current_k: 9.11675330993238, current_b: -34.76377507980305, loss_vaule: 43.600658687309384\n",
      "运行次数：3300, current_k: 9.116718136269037, current_b: -34.76355133597968, loss_vaule: 43.6006581743305\n",
      "运行次数：3400, current_k: 9.11668304708799, current_b: -34.76332812955817, loss_vaule: 43.60065766381281\n",
      "运行次数：3500, current_k: 9.116648042186329, current_b: -34.76310545924778, loss_vaule: 43.60065715574458\n",
      "运行次数：3600, current_k: 9.116613121361622, current_b: -34.762883323760846, loss_vaule: 43.60065665011401\n",
      "运行次数：3700, current_k: 9.116578284411945, current_b: -34.76266172181284, loss_vaule: 43.60065614690946\n",
      "运行次数：3800, current_k: 9.116543531135827, current_b: -34.76244065212223, loss_vaule: 43.600655646119286\n",
      "运行次数：3900, current_k: 9.116508861332298, current_b: -34.7622201134106, loss_vaule: 43.60065514773182\n",
      "运行次数：4000, current_k: 9.11647427480086, current_b: -34.762000104402595, loss_vaule: 43.600654651735624\n",
      "运行次数：4100, current_k: 9.116439771341517, current_b: -34.761780623825985, loss_vaule: 43.60065415811917\n",
      "运行次数：4200, current_k: 9.11640535075474, current_b: -34.76156167041151, loss_vaule: 43.60065366687109\n",
      "运行次数：4300, current_k: 9.116371012841473, current_b: -34.76134324289302, loss_vaule: 43.600653177980035\n",
      "运行次数：4400, current_k: 9.116336757403154, current_b: -34.7611253400074, loss_vaule: 43.600652691434625\n",
      "运行次数：4500, current_k: 9.116302584241687, current_b: -34.760907960494556, loss_vaule: 43.60065220722367\n",
      "运行次数：4600, current_k: 9.116268493159456, current_b: -34.76069110309739, loss_vaule: 43.600651725335894\n",
      "运行次数：4700, current_k: 9.11623448395931, current_b: -34.76047476656185, loss_vaule: 43.60065124576018\n",
      "运行次数：4800, current_k: 9.116200556444582, current_b: -34.76025894963687, loss_vaule: 43.60065076848551\n",
      "运行次数：4900, current_k: 9.11616671041908, current_b: -34.76004365107452, loss_vaule: 43.60065029350073\n",
      "运行次数：5000, current_k: 9.116132945687074, current_b: -34.75982886962966, loss_vaule: 43.600649820794885\n",
      "运行次数：5100, current_k: 9.116099262053309, current_b: -34.75961460406025, loss_vaule: 43.600649350357145\n",
      "运行次数：5200, current_k: 9.116065659323, current_b: -34.75940085312733, loss_vaule: 43.60064888217647\n",
      "运行次数：5300, current_k: 9.116032137301822, current_b: -34.75918761559471, loss_vaule: 43.60064841624212\n",
      "运行次数：5400, current_k: 9.115998695795943, current_b: -34.75897489022937, loss_vaule: 43.60064795254336\n",
      "运行次数：5500, current_k: 9.115965334611955, current_b: -34.75876267580107, loss_vaule: 43.60064749106935\n",
      "运行次数：5600, current_k: 9.115932053556943, current_b: -34.75855097108267, loss_vaule: 43.60064703180951\n",
      "运行次数：5700, current_k: 9.11589885243844, current_b: -34.75833977484982, loss_vaule: 43.600646574753135\n",
      "运行次数：5800, current_k: 9.115865731064469, current_b: -34.75812908588136, loss_vaule: 43.60064611988972\n",
      "运行次数：5900, current_k: 9.115832689243476, current_b: -34.75791890295876, loss_vaule: 43.600645667208674\n",
      "运行次数：6000, current_k: 9.115799726784388, current_b: -34.757709224866616, loss_vaule: 43.6006452166997\n",
      "运行次数：6100, current_k: 9.115766843496596, current_b: -34.75750005039243, loss_vaule: 43.600644768352126\n",
      "运行次数：6200, current_k: 9.115734039189944, current_b: -34.75729137832658, loss_vaule: 43.60064432215573\n",
      "运行次数：6300, current_k: 9.115701313674727, current_b: -34.75708320746235, loss_vaule: 43.600643878100165\n",
      "运行次数：6400, current_k: 9.115668666761687, current_b: -34.756875536595864, loss_vaule: 43.60064343617519\n",
      "运行次数：6500, current_k: 9.115636098262048, current_b: -34.75666836452628, loss_vaule: 43.60064299637045\n",
      "运行次数：6600, current_k: 9.115603607987465, current_b: -34.756461690055474, loss_vaule: 43.60064255867601\n",
      "运行次数：6700, current_k: 9.115571195750054, current_b: -34.75625551198833, loss_vaule: 43.60064212308153\n",
      "运行次数：6800, current_k: 9.115538861362374, current_b: -34.756049829132515, loss_vaule: 43.60064168957705\n",
      "运行次数：6900, current_k: 9.115506604637444, current_b: -34.755844640298655, loss_vaule: 43.60064125815247\n",
      "运行次数：7000, current_k: 9.115474425388731, current_b: -34.75563994430013, loss_vaule: 43.60064082879789\n",
      "运行次数：7100, current_k: 9.115442323430146, current_b: -34.755435739953214, loss_vaule: 43.60064040150334\n",
      "运行次数：7200, current_k: 9.11541029857605, current_b: -34.75523202607707, loss_vaule: 43.60063997625894\n",
      "运行次数：7300, current_k: 9.115378350641247, current_b: -34.75502880149362, loss_vaule: 43.60063955305474\n",
      "运行次数：7400, current_k: 9.115346479440992, current_b: -34.75482606502771, loss_vaule: 43.600639131881124\n",
      "运行次数：7500, current_k: 9.115314684790977, current_b: -34.75462381550688, loss_vaule: 43.600638712728276\n",
      "运行次数：7600, current_k: 9.115282966507342, current_b: -34.754422051761594, loss_vaule: 43.60063829558647\n",
      "运行次数：7700, current_k: 9.115251324406659, current_b: -34.75422077262509, loss_vaule: 43.60063788044617\n",
      "运行次数：7800, current_k: 9.115219758305948, current_b: -34.75401997693335, loss_vaule: 43.6006374672977\n",
      "运行次数：7900, current_k: 9.11518826802267, current_b: -34.75381966352526, loss_vaule: 43.600637056131404\n",
      "运行次数：8000, current_k: 9.115156853374716, current_b: -34.753619831242396, loss_vaule: 43.60063664693796\n",
      "运行次数：8100, current_k: 9.115125514180429, current_b: -34.75342047892922, loss_vaule: 43.60063623970772\n",
      "运行次数：8200, current_k: 9.115094250258577, current_b: -34.75322160543288, loss_vaule: 43.600635834431365\n",
      "运行次数：8300, current_k: 9.11506306142837, current_b: -34.75302320960333, loss_vaule: 43.60063543109958\n"
     ]
    },
    {
     "name": "stdout",
     "output_type": "stream",
     "text": [
      "运行次数：8400, current_k: 9.115031947509433, current_b: -34.75282529029323, loss_vaule: 43.600635029702914\n",
      "运行次数：8500, current_k: 9.115000908321855, current_b: -34.75262784635813, loss_vaule: 43.60063463023214\n",
      "运行次数：8600, current_k: 9.114969943686132, current_b: -34.75243087665616, loss_vaule: 43.60063423267803\n",
      "运行次数：8700, current_k: 9.114939053423203, current_b: -34.75223438004834, loss_vaule: 43.60063383703129\n",
      "运行次数：8800, current_k: 9.114908237354447, current_b: -34.75203835539839, loss_vaule: 43.60063344328291\n",
      "运行次数：8900, current_k: 9.114877495301647, current_b: -34.75184280157265, loss_vaule: 43.60063305142373\n",
      "运行次数：9000, current_k: 9.114846827087032, current_b: -34.75164771744033, loss_vaule: 43.60063266144465\n",
      "运行次数：9100, current_k: 9.114816232533245, current_b: -34.75145310187324, loss_vaule: 43.600632273336636\n",
      "运行次数：9200, current_k: 9.114785711463364, current_b: -34.75125895374597, loss_vaule: 43.60063188709081\n",
      "运行次数：9300, current_k: 9.114755263700896, current_b: -34.75106527193576, loss_vaule: 43.60063150269813\n",
      "运行次数：9400, current_k: 9.114724889069768, current_b: -34.75087205532267, loss_vaule: 43.60063112014977\n",
      "运行次数：9500, current_k: 9.114694587394327, current_b: -34.750679302789294, loss_vaule: 43.600630739436866\n",
      "运行次数：9600, current_k: 9.11466435849934, current_b: -34.75048701322097, loss_vaule: 43.60063036055064\n",
      "运行次数：9700, current_k: 9.114634202210002, current_b: -34.75029518550575, loss_vaule: 43.60062998348218\n",
      "运行次数：9800, current_k: 9.114604118351918, current_b: -34.750103818534306, loss_vaule: 43.600629608222945\n",
      "运行次数：9900, current_k: 9.114574106751125, current_b: -34.749912911199985, loss_vaule: 43.60062923476424\n"
     ]
    }
   ],
   "source": [
    "gradient_descent(x, y, 10000)"
   ]
  },
  {
   "cell_type": "code",
   "execution_count": 130,
   "metadata": {},
   "outputs": [],
   "source": [
    "y_hat = prediction_price(9.127657565435554, -34.76944885294249, x)"
   ]
  },
  {
   "cell_type": "code",
   "execution_count": 131,
   "metadata": {},
   "outputs": [
    {
     "data": {
      "text/plain": [
       "<matplotlib.collections.PathCollection at 0x1257172e8>"
      ]
     },
     "execution_count": 131,
     "metadata": {},
     "output_type": "execute_result"
    },
    {
     "data": {
      "image/png": "[encoded data removed]",
      "text/plain": [
       "<Figure size 432x288 with 1 Axes>"
      ]
     },
     "metadata": {
      "needs_background": "light"
     },
     "output_type": "display_data"
    }
   ],
   "source": [
    "plt.Figure()\n",
    "plt.scatter(x, y)\n",
    "plt.scatter(x, y_hat)"
   ]
  },
  {
   "cell_type": "code",
   "execution_count": 88,
   "metadata": {},
   "outputs": [],
   "source": [
    "min_loss = float('inf')"
   ]
  },
  {
   "cell_type": "code",
   "execution_count": 89,
   "metadata": {},
   "outputs": [
    {
     "data": {
      "text/plain": [
       "inf"
      ]
     },
     "execution_count": 89,
     "metadata": {},
     "output_type": "execute_result"
    }
   ],
   "source": [
    "min_loss"
   ]
  },
  {
   "cell_type": "code",
   "execution_count": null,
   "metadata": {},
   "outputs": [],
   "source": []
  }
 ],
 "metadata": {
  "kernelspec": {
   "display_name": "Python 3",
   "language": "python",
   "name": "python3"
  },
  "language_info": {
   "codemirror_mode": {
    "name": "ipython",
    "version": 3
   },
   "file_extension": ".py",
   "mimetype": "text/x-python",
   "name": "python",
   "nbconvert_exporter": "python",
   "pygments_lexer": "ipython3",
   "version": "3.7.3"
  }
 },
 "nbformat": 4,
 "nbformat_minor": 2
}
